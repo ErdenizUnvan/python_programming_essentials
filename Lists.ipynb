{
 "cells": [
  {
   "cell_type": "code",
   "execution_count": 1,
   "id": "2e2ef1ff",
   "metadata": {},
   "outputs": [],
   "source": [
    "#Listeler\n",
    "#array of data: veri dizinleri\n",
    "#Python veri yapilari: Numbers, strings, lists, tuple, dictionary\n",
    "#[ ile baslar ] ile biter"
   ]
  },
  {
   "cell_type": "code",
   "execution_count": 2,
   "id": "2b6b6416",
   "metadata": {},
   "outputs": [],
   "source": [
    "banka = ['TL','Dolar','Euro']"
   ]
  },
  {
   "cell_type": "code",
   "execution_count": 3,
   "id": "c9d45757",
   "metadata": {},
   "outputs": [
    {
     "data": {
      "text/plain": [
       "list"
      ]
     },
     "execution_count": 3,
     "metadata": {},
     "output_type": "execute_result"
    }
   ],
   "source": [
    "type(banka)"
   ]
  },
  {
   "cell_type": "code",
   "execution_count": 4,
   "id": "cce52fc5",
   "metadata": {},
   "outputs": [
    {
     "data": {
      "text/plain": [
       "3"
      ]
     },
     "execution_count": 4,
     "metadata": {},
     "output_type": "execute_result"
    }
   ],
   "source": [
    "len(banka)"
   ]
  },
  {
   "cell_type": "code",
   "execution_count": 5,
   "id": "0a08b6b6",
   "metadata": {},
   "outputs": [
    {
     "data": {
      "text/plain": [
       "'TL'"
      ]
     },
     "execution_count": 5,
     "metadata": {},
     "output_type": "execute_result"
    }
   ],
   "source": [
    "banka[0]"
   ]
  },
  {
   "cell_type": "code",
   "execution_count": 6,
   "id": "ac0ede4e",
   "metadata": {},
   "outputs": [
    {
     "data": {
      "text/plain": [
       "'Euro'"
      ]
     },
     "execution_count": 6,
     "metadata": {},
     "output_type": "execute_result"
    }
   ],
   "source": [
    "banka[-1]"
   ]
  },
  {
   "cell_type": "code",
   "execution_count": 7,
   "id": "7987e67b",
   "metadata": {},
   "outputs": [
    {
     "data": {
      "text/plain": [
       "'Euro'"
      ]
     },
     "execution_count": 7,
     "metadata": {},
     "output_type": "execute_result"
    }
   ],
   "source": [
    "banka[2]"
   ]
  },
  {
   "cell_type": "code",
   "execution_count": 8,
   "id": "93d9ee38",
   "metadata": {},
   "outputs": [
    {
     "data": {
      "text/plain": [
       "'Dolar'"
      ]
     },
     "execution_count": 8,
     "metadata": {},
     "output_type": "execute_result"
    }
   ],
   "source": [
    "banka[1]"
   ]
  },
  {
   "cell_type": "code",
   "execution_count": 9,
   "id": "c9270aee",
   "metadata": {},
   "outputs": [
    {
     "data": {
      "text/plain": [
       "4"
      ]
     },
     "execution_count": 9,
     "metadata": {},
     "output_type": "execute_result"
    }
   ],
   "source": [
    "banka.append('Zloty')\n",
    "len(banka)"
   ]
  },
  {
   "cell_type": "code",
   "execution_count": 10,
   "id": "98b8422a",
   "metadata": {},
   "outputs": [
    {
     "data": {
      "text/plain": [
       "4"
      ]
     },
     "execution_count": 10,
     "metadata": {},
     "output_type": "execute_result"
    }
   ],
   "source": [
    "len(banka)"
   ]
  },
  {
   "cell_type": "code",
   "execution_count": 11,
   "id": "42ff0197",
   "metadata": {},
   "outputs": [
    {
     "data": {
      "text/plain": [
       "5"
      ]
     },
     "execution_count": 11,
     "metadata": {},
     "output_type": "execute_result"
    }
   ],
   "source": [
    "banka.insert(2,'Dirhem')\n",
    "len(banka)"
   ]
  },
  {
   "cell_type": "code",
   "execution_count": 12,
   "id": "ab408b0d",
   "metadata": {},
   "outputs": [
    {
     "data": {
      "text/plain": [
       "['TL', 'Dolar', 'Dirhem', 'Euro', 'Zloty']"
      ]
     },
     "execution_count": 12,
     "metadata": {},
     "output_type": "execute_result"
    }
   ],
   "source": [
    "banka"
   ]
  },
  {
   "cell_type": "code",
   "execution_count": 13,
   "id": "ee975a3d",
   "metadata": {},
   "outputs": [
    {
     "data": {
      "text/plain": [
       "['TL', 'Dolar', 'Euro', 'Zloty']"
      ]
     },
     "execution_count": 13,
     "metadata": {},
     "output_type": "execute_result"
    }
   ],
   "source": [
    "banka.remove('Dirhem')\n",
    "banka"
   ]
  },
  {
   "cell_type": "code",
   "execution_count": 14,
   "id": "6fbcdf54",
   "metadata": {},
   "outputs": [
    {
     "data": {
      "text/plain": [
       "['TL', 'Dolar', 'Euro']"
      ]
     },
     "execution_count": 14,
     "metadata": {},
     "output_type": "execute_result"
    }
   ],
   "source": [
    "banka.pop()\n",
    "banka"
   ]
  },
  {
   "cell_type": "code",
   "execution_count": 15,
   "id": "c697a818",
   "metadata": {},
   "outputs": [
    {
     "data": {
      "text/plain": [
       "3"
      ]
     },
     "execution_count": 15,
     "metadata": {},
     "output_type": "execute_result"
    }
   ],
   "source": [
    "len(banka)"
   ]
  },
  {
   "cell_type": "code",
   "execution_count": 16,
   "id": "373afc57",
   "metadata": {},
   "outputs": [
    {
     "data": {
      "text/plain": [
       "1"
      ]
     },
     "execution_count": 16,
     "metadata": {},
     "output_type": "execute_result"
    }
   ],
   "source": [
    "banka.index('Dolar')"
   ]
  },
  {
   "cell_type": "code",
   "execution_count": 17,
   "id": "b603da49",
   "metadata": {},
   "outputs": [
    {
     "data": {
      "text/plain": [
       "['TL', 'Euro']"
      ]
     },
     "execution_count": 17,
     "metadata": {},
     "output_type": "execute_result"
    }
   ],
   "source": [
    "banka.pop(1)\n",
    "banka"
   ]
  },
  {
   "cell_type": "code",
   "execution_count": 18,
   "id": "43768907",
   "metadata": {},
   "outputs": [],
   "source": [
    "banka.append('Dolar')"
   ]
  },
  {
   "cell_type": "code",
   "execution_count": 19,
   "id": "7acdfefa",
   "metadata": {},
   "outputs": [
    {
     "data": {
      "text/plain": [
       "['TL', 'Euro', 'Dolar']"
      ]
     },
     "execution_count": 19,
     "metadata": {},
     "output_type": "execute_result"
    }
   ],
   "source": [
    "banka"
   ]
  },
  {
   "cell_type": "code",
   "execution_count": 21,
   "id": "55620334",
   "metadata": {},
   "outputs": [
    {
     "data": {
      "text/plain": [
       "['TL', 'Euro', 'Zloty', 'Dolar']"
      ]
     },
     "execution_count": 21,
     "metadata": {},
     "output_type": "execute_result"
    }
   ],
   "source": [
    "banka.insert(2,'Zloty')\n",
    "banka"
   ]
  },
  {
   "cell_type": "code",
   "execution_count": 22,
   "id": "e45068a2",
   "metadata": {},
   "outputs": [],
   "source": [
    "#ascending A=> Z\n",
    "#descending Z =>A"
   ]
  },
  {
   "cell_type": "code",
   "execution_count": 23,
   "id": "afe89c5e",
   "metadata": {},
   "outputs": [
    {
     "data": {
      "text/plain": [
       "['Dolar', 'Euro', 'TL', 'Zloty']"
      ]
     },
     "execution_count": 23,
     "metadata": {},
     "output_type": "execute_result"
    }
   ],
   "source": [
    "banka.sort()\n",
    "banka"
   ]
  },
  {
   "cell_type": "code",
   "execution_count": 24,
   "id": "eb198e91",
   "metadata": {},
   "outputs": [
    {
     "data": {
      "text/plain": [
       "['Zloty', 'TL', 'Euro', 'Dolar']"
      ]
     },
     "execution_count": 24,
     "metadata": {},
     "output_type": "execute_result"
    }
   ],
   "source": [
    "banka.sort(reverse=True)\n",
    "banka"
   ]
  },
  {
   "cell_type": "code",
   "execution_count": 25,
   "id": "10598335",
   "metadata": {},
   "outputs": [
    {
     "data": {
      "text/plain": [
       "['Zloty', 'TL', 'Euro', 'Dolar', 'TL']"
      ]
     },
     "execution_count": 25,
     "metadata": {},
     "output_type": "execute_result"
    }
   ],
   "source": [
    "banka.append('TL')\n",
    "banka"
   ]
  },
  {
   "cell_type": "code",
   "execution_count": 26,
   "id": "a7153509",
   "metadata": {},
   "outputs": [
    {
     "data": {
      "text/plain": [
       "2"
      ]
     },
     "execution_count": 26,
     "metadata": {},
     "output_type": "execute_result"
    }
   ],
   "source": [
    "banka.count('TL')"
   ]
  },
  {
   "cell_type": "code",
   "execution_count": 28,
   "id": "0081749c",
   "metadata": {},
   "outputs": [
    {
     "data": {
      "text/plain": [
       "['Zloty', 'TL', 'Euro', 'Dolar', 'TL']"
      ]
     },
     "execution_count": 28,
     "metadata": {},
     "output_type": "execute_result"
    }
   ],
   "source": [
    "#tuple\n",
    "#editlenemez veri dizinleri\n",
    "#sadece okunabilir listelerdir\n",
    "#( ile baslar ) ile biter\n",
    "banka"
   ]
  },
  {
   "cell_type": "code",
   "execution_count": 29,
   "id": "7d22ed8e",
   "metadata": {},
   "outputs": [
    {
     "data": {
      "text/plain": [
       "tuple"
      ]
     },
     "execution_count": 29,
     "metadata": {},
     "output_type": "execute_result"
    }
   ],
   "source": [
    "tuple_banka = tuple(banka)\n",
    "type(tuple_banka)"
   ]
  },
  {
   "cell_type": "code",
   "execution_count": 30,
   "id": "732b5439",
   "metadata": {},
   "outputs": [
    {
     "data": {
      "text/plain": [
       "('Zloty', 'TL', 'Euro', 'Dolar', 'TL')"
      ]
     },
     "execution_count": 30,
     "metadata": {},
     "output_type": "execute_result"
    }
   ],
   "source": [
    "tuple_banka"
   ]
  },
  {
   "cell_type": "code",
   "execution_count": 31,
   "id": "a473e08d",
   "metadata": {},
   "outputs": [
    {
     "data": {
      "text/plain": [
       "5"
      ]
     },
     "execution_count": 31,
     "metadata": {},
     "output_type": "execute_result"
    }
   ],
   "source": [
    "len(tuple_banka)"
   ]
  },
  {
   "cell_type": "code",
   "execution_count": 32,
   "id": "086ab546",
   "metadata": {},
   "outputs": [
    {
     "data": {
      "text/plain": [
       "list"
      ]
     },
     "execution_count": 32,
     "metadata": {},
     "output_type": "execute_result"
    }
   ],
   "source": [
    "list_banka = list(tuple_banka)\n",
    "type(list_banka)"
   ]
  },
  {
   "cell_type": "code",
   "execution_count": 33,
   "id": "1be54e97",
   "metadata": {},
   "outputs": [
    {
     "data": {
      "text/plain": [
       "['Zloty', 'TL', 'Euro', 'Dolar', 'TL']"
      ]
     },
     "execution_count": 33,
     "metadata": {},
     "output_type": "execute_result"
    }
   ],
   "source": [
    "list_banka"
   ]
  },
  {
   "cell_type": "code",
   "execution_count": 34,
   "id": "159c1859",
   "metadata": {},
   "outputs": [
    {
     "data": {
      "text/plain": [
       "'TL'"
      ]
     },
     "execution_count": 34,
     "metadata": {},
     "output_type": "execute_result"
    }
   ],
   "source": [
    "tuple_banka[1]"
   ]
  },
  {
   "cell_type": "code",
   "execution_count": 35,
   "id": "3db3482a",
   "metadata": {},
   "outputs": [
    {
     "data": {
      "text/plain": [
       "'TL'"
      ]
     },
     "execution_count": 35,
     "metadata": {},
     "output_type": "execute_result"
    }
   ],
   "source": [
    "list_banka[1]"
   ]
  },
  {
   "cell_type": "code",
   "execution_count": null,
   "id": "6937a084",
   "metadata": {},
   "outputs": [],
   "source": []
  }
 ],
 "metadata": {
  "kernelspec": {
   "display_name": "Python 3 (ipykernel)",
   "language": "python",
   "name": "python3"
  },
  "language_info": {
   "codemirror_mode": {
    "name": "ipython",
    "version": 3
   },
   "file_extension": ".py",
   "mimetype": "text/x-python",
   "name": "python",
   "nbconvert_exporter": "python",
   "pygments_lexer": "ipython3",
   "version": "3.9.7"
  }
 },
 "nbformat": 4,
 "nbformat_minor": 5
}
