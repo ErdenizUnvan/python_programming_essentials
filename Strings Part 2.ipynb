{
 "cells": [
  {
   "cell_type": "code",
   "execution_count": 3,
   "id": "87deea57",
   "metadata": {},
   "outputs": [
    {
     "name": "stdout",
     "output_type": "stream",
     "text": [
      "Yapay Zekada Pandas kutuphanesi ile Data Analizi yapariz. Matplotlib ile de data gorsellestirme yapariz.\n"
     ]
    }
   ],
   "source": [
    "mesaj='Yapay Zekada Pandas kutuphanesi ile Data Analizi yapariz. Matplotlib ile de data gorsellestirme yapariz.'\n",
    "print(mesaj)"
   ]
  },
  {
   "cell_type": "code",
   "execution_count": 4,
   "id": "688af241",
   "metadata": {},
   "outputs": [
    {
     "data": {
      "text/plain": [
       "str"
      ]
     },
     "execution_count": 4,
     "metadata": {},
     "output_type": "execute_result"
    }
   ],
   "source": [
    "type(mesaj)"
   ]
  },
  {
   "cell_type": "code",
   "execution_count": 5,
   "id": "f8919914",
   "metadata": {},
   "outputs": [],
   "source": [
    "#[]\n",
    "#karakter sayimi 0'dan baslar"
   ]
  },
  {
   "cell_type": "code",
   "execution_count": 6,
   "id": "3cb1248c",
   "metadata": {},
   "outputs": [
    {
     "data": {
      "text/plain": [
       "'Y'"
      ]
     },
     "execution_count": 6,
     "metadata": {},
     "output_type": "execute_result"
    }
   ],
   "source": [
    "mesaj[0]"
   ]
  },
  {
   "cell_type": "code",
   "execution_count": 7,
   "id": "9431257f",
   "metadata": {},
   "outputs": [
    {
     "data": {
      "text/plain": [
       "'.'"
      ]
     },
     "execution_count": 7,
     "metadata": {},
     "output_type": "execute_result"
    }
   ],
   "source": [
    "mesaj[-1]"
   ]
  },
  {
   "cell_type": "code",
   "execution_count": 8,
   "id": "dc4582a1",
   "metadata": {},
   "outputs": [
    {
     "data": {
      "text/plain": [
       "104"
      ]
     },
     "execution_count": 8,
     "metadata": {},
     "output_type": "execute_result"
    }
   ],
   "source": [
    "#uzunluk\n",
    "len(mesaj)"
   ]
  },
  {
   "cell_type": "code",
   "execution_count": 9,
   "id": "0d2ac77f",
   "metadata": {},
   "outputs": [
    {
     "data": {
      "text/plain": [
       "'Yapay Zekada Pandas kutuphanesi ile Data Analizi yapariz. Matplotlib ile de data gorsellestirme yapariz.'"
      ]
     },
     "execution_count": 9,
     "metadata": {},
     "output_type": "execute_result"
    }
   ],
   "source": [
    "mesaj[0:104]"
   ]
  },
  {
   "cell_type": "code",
   "execution_count": 10,
   "id": "1bde87da",
   "metadata": {},
   "outputs": [
    {
     "data": {
      "text/plain": [
       "'Yapa'"
      ]
     },
     "execution_count": 10,
     "metadata": {},
     "output_type": "execute_result"
    }
   ],
   "source": [
    "mesaj[0:4]"
   ]
  },
  {
   "cell_type": "code",
   "execution_count": 11,
   "id": "a42a779d",
   "metadata": {},
   "outputs": [
    {
     "data": {
      "text/plain": [
       "'Yapay'"
      ]
     },
     "execution_count": 11,
     "metadata": {},
     "output_type": "execute_result"
    }
   ],
   "source": [
    "mesaj[0:5]"
   ]
  },
  {
   "cell_type": "code",
   "execution_count": 13,
   "id": "50e1b124",
   "metadata": {},
   "outputs": [
    {
     "data": {
      "text/plain": [
       "'Zekada Pandas kutuphanesi ile Data Analizi yapariz. Matplotlib ile de data gorsellestirme yapariz.'"
      ]
     },
     "execution_count": 13,
     "metadata": {},
     "output_type": "execute_result"
    }
   ],
   "source": [
    "mesaj[6:104]"
   ]
  },
  {
   "cell_type": "code",
   "execution_count": 14,
   "id": "8e74118d",
   "metadata": {},
   "outputs": [
    {
     "data": {
      "text/plain": [
       "'Yapay Zekada Pandas kutuphanesi ile Data Analizi yapariz. Matplotlib ile de data gorsellestirme yapariz.'"
      ]
     },
     "execution_count": 14,
     "metadata": {},
     "output_type": "execute_result"
    }
   ],
   "source": [
    "#Zen\n",
    "mesaj[:104]"
   ]
  },
  {
   "cell_type": "code",
   "execution_count": 15,
   "id": "5c7eadb8",
   "metadata": {},
   "outputs": [
    {
     "data": {
      "text/plain": [
       "'Yapay Zekada Pandas kutuphanesi ile Data Analizi yapariz. Matplotlib ile de data gorsellestirme yapariz.'"
      ]
     },
     "execution_count": 15,
     "metadata": {},
     "output_type": "execute_result"
    }
   ],
   "source": [
    "mesaj[0:]"
   ]
  },
  {
   "cell_type": "code",
   "execution_count": 16,
   "id": "bb840c0c",
   "metadata": {},
   "outputs": [
    {
     "data": {
      "text/plain": [
       "'.zirapay emritsellesrog atad ed eli biltolptaM .zirapay izilanA ataD eli isenahputuk sadnaP adakeZ yapaY'"
      ]
     },
     "execution_count": 16,
     "metadata": {},
     "output_type": "execute_result"
    }
   ],
   "source": [
    "#Sagdan sola referansimizi yazdiralim\n",
    "mesaj[::-1]"
   ]
  },
  {
   "cell_type": "code",
   "execution_count": 17,
   "id": "465a0523",
   "metadata": {},
   "outputs": [
    {
     "data": {
      "text/plain": [
       "'Yapay Zekada Pandas kutuphanesi ile Data Analizi yapariz. Matplotlib ile de data gorsellestirme yapariz.'"
      ]
     },
     "execution_count": 17,
     "metadata": {},
     "output_type": "execute_result"
    }
   ],
   "source": [
    "mesaj"
   ]
  },
  {
   "cell_type": "code",
   "execution_count": 18,
   "id": "0eb6148b",
   "metadata": {},
   "outputs": [
    {
     "data": {
      "text/plain": [
       "'yapariz.'"
      ]
     },
     "execution_count": 18,
     "metadata": {},
     "output_type": "execute_result"
    }
   ],
   "source": [
    "mesaj[-8:]"
   ]
  },
  {
   "cell_type": "code",
   "execution_count": 19,
   "id": "e509cb64",
   "metadata": {},
   "outputs": [
    {
     "data": {
      "text/plain": [
       "'yapaY'"
      ]
     },
     "execution_count": 19,
     "metadata": {},
     "output_type": "execute_result"
    }
   ],
   "source": [
    "mesaj[::-1][-5:]"
   ]
  },
  {
   "cell_type": "code",
   "execution_count": 20,
   "id": "fabf318a",
   "metadata": {},
   "outputs": [
    {
     "data": {
      "text/plain": [
       "'yapaY Zeka'"
      ]
     },
     "execution_count": 20,
     "metadata": {},
     "output_type": "execute_result"
    }
   ],
   "source": [
    "mesaj[::-1][-5:] +' '+mesaj[6:10]"
   ]
  },
  {
   "cell_type": "code",
   "execution_count": 21,
   "id": "6eb6c23f",
   "metadata": {},
   "outputs": [
    {
     "data": {
      "text/plain": [
       "str"
      ]
     },
     "execution_count": 21,
     "metadata": {},
     "output_type": "execute_result"
    }
   ],
   "source": [
    "type(mesaj)"
   ]
  },
  {
   "cell_type": "code",
   "execution_count": 22,
   "id": "5072521c",
   "metadata": {},
   "outputs": [
    {
     "name": "stdout",
     "output_type": "stream",
     "text": [
      "<class 'str'>\n"
     ]
    }
   ],
   "source": [
    "print(type(mesaj))"
   ]
  },
  {
   "cell_type": "code",
   "execution_count": 23,
   "id": "50deb3e5",
   "metadata": {},
   "outputs": [
    {
     "data": {
      "text/plain": [
       "'YAPAY ZEKADA PANDAS KUTUPHANESI ILE DATA ANALIZI YAPARIZ. MATPLOTLIB ILE DE DATA GORSELLESTIRME YAPARIZ.'"
      ]
     },
     "execution_count": 23,
     "metadata": {},
     "output_type": "execute_result"
    }
   ],
   "source": [
    "mesaj = mesaj.upper()\n",
    "mesaj"
   ]
  },
  {
   "cell_type": "code",
   "execution_count": 24,
   "id": "94a2a5d0",
   "metadata": {},
   "outputs": [
    {
     "data": {
      "text/plain": [
       "'Yapay zekada pandas kutuphanesi ile data analizi yapariz. matplotlib ile de data gorsellestirme yapariz.'"
      ]
     },
     "execution_count": 24,
     "metadata": {},
     "output_type": "execute_result"
    }
   ],
   "source": [
    "mesaj= mesaj.capitalize()\n",
    "mesaj"
   ]
  },
  {
   "cell_type": "code",
   "execution_count": 25,
   "id": "b7b7ed7a",
   "metadata": {},
   "outputs": [
    {
     "name": "stdout",
     "output_type": "stream",
     "text": [
      "Yapay Zekada Pandas kutuphanesi ile Data Analizi yapariz. Matplotlib ile de data gorsellestirme yapariz.\n"
     ]
    }
   ],
   "source": [
    "mesaj='Yapay Zekada Pandas kutuphanesi ile Data Analizi yapariz. Matplotlib ile de data gorsellestirme yapariz.'\n",
    "print(mesaj)"
   ]
  },
  {
   "cell_type": "code",
   "execution_count": 26,
   "id": "92c71179",
   "metadata": {},
   "outputs": [
    {
     "data": {
      "text/plain": [
       "'YAPAY ZEKADA PANDAS KUTUPHANESI ILE DATA ANALIZI YAPARIZ. MATPLOTLIB ILE DE DATA GORSELLESTIRME YAPARIZ.'"
      ]
     },
     "execution_count": 26,
     "metadata": {},
     "output_type": "execute_result"
    }
   ],
   "source": [
    "mesaj1 = mesaj.upper()\n",
    "mesaj1"
   ]
  },
  {
   "cell_type": "code",
   "execution_count": 27,
   "id": "f839d430",
   "metadata": {},
   "outputs": [
    {
     "data": {
      "text/plain": [
       "'Yapay Zekada Pandas kutuphanesi ile Data Analizi yapariz. Matplotlib ile de data gorsellestirme yapariz.'"
      ]
     },
     "execution_count": 27,
     "metadata": {},
     "output_type": "execute_result"
    }
   ],
   "source": [
    "mesaj"
   ]
  },
  {
   "cell_type": "code",
   "execution_count": 28,
   "id": "9fd7486a",
   "metadata": {},
   "outputs": [
    {
     "data": {
      "text/plain": [
       "'yapay zekada pandas kutuphanesi ile data analizi yapariz. matplotlib ile de data gorsellestirme yapariz.'"
      ]
     },
     "execution_count": 28,
     "metadata": {},
     "output_type": "execute_result"
    }
   ],
   "source": [
    "mesaj2 = mesaj.lower()\n",
    "mesaj2"
   ]
  },
  {
   "cell_type": "code",
   "execution_count": 29,
   "id": "e9a28c4a",
   "metadata": {},
   "outputs": [
    {
     "data": {
      "text/plain": [
       "'Yapay Zekada Pandas kutuphanesi ile Data Analizi yapariz. Seaborn ile de data gorsellestirme yapariz.'"
      ]
     },
     "execution_count": 29,
     "metadata": {},
     "output_type": "execute_result"
    }
   ],
   "source": [
    "#replace\n",
    "mesaj3 = mesaj.replace('Matplotlib','Seaborn')\n",
    "mesaj3"
   ]
  },
  {
   "cell_type": "code",
   "execution_count": 30,
   "id": "e55601ca",
   "metadata": {},
   "outputs": [
    {
     "data": {
      "text/plain": [
       "'Yapay Zekada Pandas kutuphanesi ile Data Analizi yapariz. Matplotlib ile de data gorsellestirme yapariz.'"
      ]
     },
     "execution_count": 30,
     "metadata": {},
     "output_type": "execute_result"
    }
   ],
   "source": [
    "mesaj"
   ]
  },
  {
   "cell_type": "code",
   "execution_count": 31,
   "id": "94fa81c2",
   "metadata": {},
   "outputs": [
    {
     "data": {
      "text/plain": [
       "'YapayZekadaPandaskutuphanesiileDataAnaliziyapariz.Matplotlibilededatagorsellestirmeyapariz.'"
      ]
     },
     "execution_count": 31,
     "metadata": {},
     "output_type": "execute_result"
    }
   ],
   "source": [
    "mesaj4 = mesaj.replace(' ','')\n",
    "mesaj4"
   ]
  },
  {
   "cell_type": "code",
   "execution_count": 32,
   "id": "cdb30260",
   "metadata": {},
   "outputs": [
    {
     "data": {
      "text/plain": [
       "91"
      ]
     },
     "execution_count": 32,
     "metadata": {},
     "output_type": "execute_result"
    }
   ],
   "source": [
    "len(mesaj4)"
   ]
  },
  {
   "cell_type": "code",
   "execution_count": 33,
   "id": "498f0690",
   "metadata": {},
   "outputs": [
    {
     "data": {
      "text/plain": [
       "104"
      ]
     },
     "execution_count": 33,
     "metadata": {},
     "output_type": "execute_result"
    }
   ],
   "source": [
    "len(mesaj)"
   ]
  },
  {
   "cell_type": "code",
   "execution_count": 35,
   "id": "1871b793",
   "metadata": {},
   "outputs": [
    {
     "name": "stdout",
     "output_type": "stream",
     "text": [
      "Yapay Zekada Pandas kutuphanesi ile Data Analizi yapariz. Matplotlib kutuphanesi ile de data gorsellestirme yapariz.\n"
     ]
    }
   ],
   "source": [
    "mesaj='Yapay Zekada Pandas kutuphanesi ile Data Analizi yapariz. Matplotlib kutuphanesi ile de data gorsellestirme yapariz.'\n",
    "print(mesaj)"
   ]
  },
  {
   "cell_type": "code",
   "execution_count": 36,
   "id": "0c4c3bd8",
   "metadata": {},
   "outputs": [
    {
     "data": {
      "text/plain": [
       "'Yapay Zekada Pandas library ile Data Analizi yapariz. Matplotlib library ile de data gorsellestirme yapariz.'"
      ]
     },
     "execution_count": 36,
     "metadata": {},
     "output_type": "execute_result"
    }
   ],
   "source": [
    "mesaj5 = mesaj.replace('kutuphanesi','library')\n",
    "mesaj5"
   ]
  },
  {
   "cell_type": "code",
   "execution_count": 37,
   "id": "bce370c5",
   "metadata": {},
   "outputs": [
    {
     "data": {
      "text/plain": [
       "'Yapay Zekada Pandas kutuphanesi ile Data Analizi yapariz. Matplotlib kutuphanesi ile de data gorsellestirme yapariz.'"
      ]
     },
     "execution_count": 37,
     "metadata": {},
     "output_type": "execute_result"
    }
   ],
   "source": [
    "mesaj"
   ]
  },
  {
   "cell_type": "code",
   "execution_count": 38,
   "id": "e22a3f08",
   "metadata": {},
   "outputs": [
    {
     "data": {
      "text/plain": [
       "'Yapay Zekada Pandas library ile Data Analizi yapariz. Matplotlib kutuphanesi ile de data gorsellestirme yapariz.'"
      ]
     },
     "execution_count": 38,
     "metadata": {},
     "output_type": "execute_result"
    }
   ],
   "source": [
    "mesaj6 = mesaj.replace('kutuphanesi','library',1)\n",
    "mesaj6"
   ]
  },
  {
   "cell_type": "code",
   "execution_count": 39,
   "id": "65740b87",
   "metadata": {},
   "outputs": [],
   "source": [
    "#regex"
   ]
  },
  {
   "cell_type": "code",
   "execution_count": 40,
   "id": "edd43889",
   "metadata": {},
   "outputs": [
    {
     "name": "stdout",
     "output_type": "stream",
     "text": [
      "Yapay Zekada Pandas kutuphanesi ile Data Analizi yapariz. Matplotlib kutuphanesi ile de data gorsellestirme yapariz.\n",
      "\n"
     ]
    }
   ],
   "source": [
    "#stringlerde cok onemli 2 tane parselleme metodumuz var:\n",
    "#strip\n",
    "mesaj='Yapay Zekada Pandas kutuphanesi ile Data Analizi yapariz. Matplotlib kutuphanesi ile de data gorsellestirme yapariz.\\n'\n",
    "print(mesaj)"
   ]
  },
  {
   "cell_type": "code",
   "execution_count": 41,
   "id": "789ef1e4",
   "metadata": {},
   "outputs": [
    {
     "data": {
      "text/plain": [
       "'Yapay Zekada Pandas kutuphanesi ile Data Analizi yapariz. Matplotlib kutuphanesi ile de data gorsellestirme yapariz.'"
      ]
     },
     "execution_count": 41,
     "metadata": {},
     "output_type": "execute_result"
    }
   ],
   "source": [
    "mesaj7 = mesaj.strip()\n",
    "mesaj7"
   ]
  },
  {
   "cell_type": "code",
   "execution_count": 42,
   "id": "c6f1e7d9",
   "metadata": {},
   "outputs": [
    {
     "data": {
      "text/plain": [
       "['Yapay',\n",
       " 'Zekada',\n",
       " 'Pandas',\n",
       " 'kutuphanesi',\n",
       " 'ile',\n",
       " 'Data',\n",
       " 'Analizi',\n",
       " 'yapariz.',\n",
       " 'Matplotlib',\n",
       " 'kutuphanesi',\n",
       " 'ile',\n",
       " 'de',\n",
       " 'data',\n",
       " 'gorsellestirme',\n",
       " 'yapariz.\\n']"
      ]
     },
     "execution_count": 42,
     "metadata": {},
     "output_type": "execute_result"
    }
   ],
   "source": [
    "#split\n",
    "mesaj8 = mesaj.split(' ')\n",
    "mesaj8"
   ]
  },
  {
   "cell_type": "code",
   "execution_count": 43,
   "id": "9b43077f",
   "metadata": {},
   "outputs": [
    {
     "data": {
      "text/plain": [
       "['Yapay',\n",
       " 'Zekada',\n",
       " 'Pandas',\n",
       " 'kutuphanesi',\n",
       " 'ile',\n",
       " 'Data',\n",
       " 'Analizi',\n",
       " 'yapariz.',\n",
       " 'Matplotlib',\n",
       " 'kutuphanesi',\n",
       " 'ile',\n",
       " 'de',\n",
       " 'data',\n",
       " 'gorsellestirme',\n",
       " 'yapariz.']"
      ]
     },
     "execution_count": 43,
     "metadata": {},
     "output_type": "execute_result"
    }
   ],
   "source": [
    "mesaj9 = mesaj.strip().split(' ')\n",
    "mesaj9"
   ]
  },
  {
   "cell_type": "code",
   "execution_count": 44,
   "id": "eb1c292c",
   "metadata": {},
   "outputs": [
    {
     "data": {
      "text/plain": [
       "15"
      ]
     },
     "execution_count": 44,
     "metadata": {},
     "output_type": "execute_result"
    }
   ],
   "source": [
    "len(mesaj9)"
   ]
  },
  {
   "cell_type": "code",
   "execution_count": 45,
   "id": "2125688e",
   "metadata": {},
   "outputs": [
    {
     "data": {
      "text/plain": [
       "list"
      ]
     },
     "execution_count": 45,
     "metadata": {},
     "output_type": "execute_result"
    }
   ],
   "source": [
    "type(mesaj9)"
   ]
  },
  {
   "cell_type": "code",
   "execution_count": 46,
   "id": "b5f2fb84",
   "metadata": {},
   "outputs": [
    {
     "name": "stdout",
     "output_type": "stream",
     "text": [
      "Yapay Zekada Pandas kutuphanesi ile Data Analizi yapariz. Matplotlib kutuphanesi ile de data gorsellestirme yapariz.\n"
     ]
    }
   ],
   "source": [
    "mesaj = mesaj.strip()\n",
    "print(mesaj)"
   ]
  },
  {
   "cell_type": "code",
   "execution_count": 47,
   "id": "8c3577a9",
   "metadata": {},
   "outputs": [
    {
     "data": {
      "text/plain": [
       "'Y-a-p-a-y- -Z-e-k-a-d-a- -P-a-n-d-a-s- -k-u-t-u-p-h-a-n-e-s-i- -i-l-e- -D-a-t-a- -A-n-a-l-i-z-i- -y-a-p-a-r-i-z-.- -M-a-t-p-l-o-t-l-i-b- -k-u-t-u-p-h-a-n-e-s-i- -i-l-e- -d-e- -d-a-t-a- -g-o-r-s-e-l-l-e-s-t-i-r-m-e- -y-a-p-a-r-i-z-.'"
      ]
     },
     "execution_count": 47,
     "metadata": {},
     "output_type": "execute_result"
    }
   ],
   "source": [
    "mesaj10 = '-'.join(mesaj)\n",
    "mesaj10"
   ]
  },
  {
   "cell_type": "code",
   "execution_count": 48,
   "id": "0b48015c",
   "metadata": {},
   "outputs": [
    {
     "data": {
      "text/plain": [
       "231"
      ]
     },
     "execution_count": 48,
     "metadata": {},
     "output_type": "execute_result"
    }
   ],
   "source": [
    "len(mesaj10)"
   ]
  },
  {
   "cell_type": "code",
   "execution_count": 49,
   "id": "3d039c47",
   "metadata": {},
   "outputs": [
    {
     "data": {
      "text/plain": [
       "'Y - a - p - a - y -   - Z - e - k - a - d - a -   - P - a - n - d - a - s -   - k - u - t - u - p - h - a - n - e - s - i -   - i - l - e -   - D - a - t - a -   - A - n - a - l - i - z - i -   - y - a - p - a - r - i - z - . -   - M - a - t - p - l - o - t - l - i - b -   - k - u - t - u - p - h - a - n - e - s - i -   - i - l - e -   - d - e -   - d - a - t - a -   - g - o - r - s - e - l - l - e - s - t - i - r - m - e -   - y - a - p - a - r - i - z - .'"
      ]
     },
     "execution_count": 49,
     "metadata": {},
     "output_type": "execute_result"
    }
   ],
   "source": [
    "mesaj11 = ' - '.join(mesaj)\n",
    "mesaj11"
   ]
  },
  {
   "cell_type": "code",
   "execution_count": 50,
   "id": "02396ab4",
   "metadata": {},
   "outputs": [
    {
     "data": {
      "text/plain": [
       "461"
      ]
     },
     "execution_count": 50,
     "metadata": {},
     "output_type": "execute_result"
    }
   ],
   "source": [
    "len(mesaj11)"
   ]
  },
  {
   "cell_type": "code",
   "execution_count": null,
   "id": "30923028",
   "metadata": {},
   "outputs": [],
   "source": []
  }
 ],
 "metadata": {
  "kernelspec": {
   "display_name": "Python 3 (ipykernel)",
   "language": "python",
   "name": "python3"
  },
  "language_info": {
   "codemirror_mode": {
    "name": "ipython",
    "version": 3
   },
   "file_extension": ".py",
   "mimetype": "text/x-python",
   "name": "python",
   "nbconvert_exporter": "python",
   "pygments_lexer": "ipython3",
   "version": "3.9.7"
  }
 },
 "nbformat": 4,
 "nbformat_minor": 5
}
