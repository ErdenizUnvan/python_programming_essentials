{
 "cells": [
  {
   "cell_type": "code",
   "execution_count": null,
   "id": "5aa8df09",
   "metadata": {},
   "outputs": [],
   "source": [
    "#42'den buyuk ise: hayatin anlamindan buyuk\n",
    "#kucuk ise kucuk\n",
    "sayi=int(input('bir sayi yaz: '))\n",
    "if sayi>42:\n",
    "    print('Hayatin anlamindan buyuk')\n",
    "else:\n",
    "    print('Hayatin anlamindan kucuktur.')"
   ]
  },
  {
   "cell_type": "code",
   "execution_count": null,
   "id": "0bf181c6",
   "metadata": {},
   "outputs": [],
   "source": [
    "#42'den buyuk ise: hayatin anlamindan buyuk\n",
    "#kucuk ise kucuk\n",
    "sayi=int(input('bir sayi yaz: '))\n",
    "if sayi>42:\n",
    "    print('Hayatin anlamindan buyuk')\n",
    "else:\n",
    "    print('Hayatin anlamindan kucuktur.')"
   ]
  },
  {
   "cell_type": "code",
   "execution_count": null,
   "id": "48df59e0",
   "metadata": {},
   "outputs": [],
   "source": [
    "#42'den buyuk ise: hayatin anlamindan buyuk\n",
    "#kucuk ise kucuk\n",
    "sayi=int(input('bir sayi yaz:'))\n",
    "if sayi>42:\n",
    "    print('Hayatin anlamindan buyuk')\n",
    "else:\n",
    "    print('Hayatin anlamindan kucuktur.')"
   ]
  },
  {
   "cell_type": "code",
   "execution_count": null,
   "id": "5180823b",
   "metadata": {},
   "outputs": [],
   "source": [
    "#42'den buyuk ise: hayatin anlamindan buyuk\n",
    "#kucuk ise kucuk\n",
    "sayi=int(input('bir sayi yaz:'))\n",
    "if sayi>42:\n",
    "    print('Hayatin anlamindan buyuk')\n",
    "    \n",
    "elif sayi==42:\n",
    "    print('Hayatin anlamisin:)')\n",
    "\n",
    "else:\n",
    "    print('Hayatin anlamindan kucuktur.')"
   ]
  },
  {
   "cell_type": "code",
   "execution_count": null,
   "id": "7cdb7826",
   "metadata": {},
   "outputs": [],
   "source": [
    "#Can egrisi disinda\n",
    "#geleneksel bir not sistemi yapalim\n",
    "#100>= not >= 85: A\n",
    "#84>= not >= 70: B\n",
    "#69>= not >= 55: C\n",
    "#54>= not >= 45: D\n",
    "#44>= not >= 0: F\n",
    "\n",
    "#rakam olarak veri girisi yapilmasi lazim"
   ]
  },
  {
   "cell_type": "code",
   "execution_count": null,
   "id": "634ff11c",
   "metadata": {},
   "outputs": [],
   "source": [
    "sonuc = int(input('Ogrenci Notu: '))\n",
    "sonuc"
   ]
  },
  {
   "cell_type": "code",
   "execution_count": null,
   "id": "75576576",
   "metadata": {},
   "outputs": [],
   "source": [
    "sonuc = int(input('Ogrenci Notu: '))\n",
    "sonuc"
   ]
  },
  {
   "cell_type": "code",
   "execution_count": null,
   "id": "7af7c698",
   "metadata": {},
   "outputs": [],
   "source": [
    "sonuc = int(input('Ogrenci Notu: '))\n",
    "sonuc"
   ]
  },
  {
   "cell_type": "code",
   "execution_count": null,
   "id": "a22b8037",
   "metadata": {},
   "outputs": [],
   "source": [
    "sonuc = int(input('Ogrenci Notu: '))\n",
    "sonuc"
   ]
  },
  {
   "cell_type": "code",
   "execution_count": null,
   "id": "a6ff7a37",
   "metadata": {},
   "outputs": [],
   "source": [
    "#basit olarak ogrenci not sistemi\n",
    "##Can egrisi disinda\n",
    "#geleneksel bir not sistemi yapalim\n",
    "#100>= not >= 85: A\n",
    "#84>= not >= 70: B\n",
    "#69>= not >= 55: C\n",
    "#54>= not >= 45: D\n",
    "#44>= not >= 0: F\n",
    "\n",
    "#not 100'den buyuk olamaz\n",
    "#not 0'den kucuk olamaz\n",
    "\n",
    "\n",
    "#rakam olarak veri girisi yapilmasi lazim"
   ]
  },
  {
   "cell_type": "code",
   "execution_count": null,
   "id": "3c1a395c",
   "metadata": {},
   "outputs": [],
   "source": [
    "#and \n",
    "#or"
   ]
  },
  {
   "cell_type": "code",
   "execution_count": null,
   "id": "e0eab7d9",
   "metadata": {},
   "outputs": [],
   "source": [
    "#100>= not >= 85: A\n",
    "#84>= not >= 70: B\n",
    "#69>= not >= 55: C\n",
    "#54>= not >= 45: D\n",
    "#44>= not >= 0: F"
   ]
  },
  {
   "cell_type": "code",
   "execution_count": null,
   "id": "4822127d",
   "metadata": {},
   "outputs": [],
   "source": [
    "sonuc = int(input('Ogrenci Notu: '))\n",
    "\n",
    "if sonuc > 100 or sonuc < 0:\n",
    "    print('Gecersiz veri')\n",
    "else:\n",
    "    if sonuc >=85:\n",
    "        print('A')\n",
    "    elif sonuc >= 70:\n",
    "        print('B')\n",
    "    elif sonuc >=55:\n",
    "        print('C')\n",
    "    elif sonuc >=45:\n",
    "        print('D')\n",
    "    else:\n",
    "        print('F')"
   ]
  },
  {
   "cell_type": "code",
   "execution_count": null,
   "id": "c91e2a8b",
   "metadata": {},
   "outputs": [],
   "source": [
    "sonuc = int(input('Ogrenci Notu: '))\n",
    "\n",
    "if sonuc > 100 or sonuc < 0:\n",
    "    print('Gecersiz veri')\n",
    "else:\n",
    "    if sonuc >=85:\n",
    "        print('A')\n",
    "    elif sonuc >= 70:\n",
    "        print('B')\n",
    "    elif sonuc >=55:\n",
    "        print('C')\n",
    "    elif sonuc >=45:\n",
    "        print('D')\n",
    "    else:\n",
    "        print('F')"
   ]
  },
  {
   "cell_type": "code",
   "execution_count": null,
   "id": "f5a71674",
   "metadata": {},
   "outputs": [],
   "source": [
    "sonuc = int(input('Ogrenci Notu: '))\n",
    "\n",
    "if sonuc > 100 or sonuc < 0:\n",
    "    print('Gecersiz veri')\n",
    "else:\n",
    "    if sonuc >=85:\n",
    "        print('A')\n",
    "    elif sonuc >= 70:\n",
    "        print('B')\n",
    "    elif sonuc >=55:\n",
    "        print('C')\n",
    "    elif sonuc >=45:\n",
    "        print('D')\n",
    "    else:\n",
    "        print('F')"
   ]
  },
  {
   "cell_type": "code",
   "execution_count": null,
   "id": "36620ba7",
   "metadata": {},
   "outputs": [],
   "source": [
    "sonuc = int(input('Ogrenci Notu: '))\n",
    "\n",
    "if sonuc > 100 or sonuc < 0:\n",
    "    print('Gecersiz veri')\n",
    "else:\n",
    "    if sonuc >=85:\n",
    "        print('A')\n",
    "    elif sonuc >= 70:\n",
    "        print('B')\n",
    "    elif sonuc >=55:\n",
    "        print('C')\n",
    "    elif sonuc >=45:\n",
    "        print('D')\n",
    "    else:\n",
    "        print('F')"
   ]
  },
  {
   "cell_type": "code",
   "execution_count": null,
   "id": "8e7e41fe",
   "metadata": {},
   "outputs": [],
   "source": [
    "sonuc = int(input('Ogrenci Notu: '))\n",
    "\n",
    "if sonuc > 100 or sonuc < 0:\n",
    "    print('Gecersiz veri')\n",
    "else:\n",
    "    if sonuc >=85:\n",
    "        print('A')\n",
    "    elif sonuc >= 70:\n",
    "        print('B')\n",
    "    elif sonuc >=55:\n",
    "        print('C')\n",
    "    elif sonuc >=45:\n",
    "        print('D')\n",
    "    else:\n",
    "        print('F')"
   ]
  },
  {
   "cell_type": "code",
   "execution_count": null,
   "id": "ab18dd20",
   "metadata": {},
   "outputs": [],
   "source": [
    "sonuc = int(input('Ogrenci Notu: '))\n",
    "\n",
    "if sonuc > 100 or sonuc < 0:\n",
    "    print('Gecersiz veri')\n",
    "else:\n",
    "    if sonuc >=85:\n",
    "        print('A')\n",
    "    elif sonuc >= 70:\n",
    "        print('B')\n",
    "    elif sonuc >=55:\n",
    "        print('C')\n",
    "    elif sonuc >=45:\n",
    "        print('D')\n",
    "    else:\n",
    "        print('F')"
   ]
  },
  {
   "cell_type": "code",
   "execution_count": null,
   "id": "759a0991",
   "metadata": {},
   "outputs": [],
   "source": [
    "sonuc = int(input('Ogrenci Notu: '))\n",
    "\n",
    "if sonuc > 100 or sonuc < 0:\n",
    "    print('Gecersiz veri')\n",
    "else:\n",
    "    if sonuc >=85:\n",
    "        print('A')\n",
    "    elif sonuc >= 70:\n",
    "        print('B')\n",
    "    elif sonuc >=55:\n",
    "        print('C')\n",
    "    elif sonuc >=45:\n",
    "        print('D')\n",
    "    else:\n",
    "        print('F')"
   ]
  },
  {
   "cell_type": "code",
   "execution_count": null,
   "id": "49ba510d",
   "metadata": {},
   "outputs": [],
   "source": [
    "sonuc = int(input('Ogrenci Notu: '))\n",
    "\n",
    "if sonuc > 100 or sonuc < 0:\n",
    "    print('Gecersiz veri')\n",
    "else:\n",
    "    if sonuc >=85:\n",
    "        print('A')\n",
    "    elif sonuc >= 70:\n",
    "        print('B')\n",
    "    elif sonuc >=55:\n",
    "        print('C')\n",
    "    elif sonuc >=45:\n",
    "        print('D')\n",
    "    else:\n",
    "        print('F')"
   ]
  },
  {
   "cell_type": "code",
   "execution_count": null,
   "id": "9e7f5ccc",
   "metadata": {},
   "outputs": [],
   "source": [
    "sonuc = int(input('Ogrenci Notu: '))\n",
    "\n",
    "if sonuc > 100 or sonuc < 0:\n",
    "    print('Gecersiz veri')\n",
    "else:\n",
    "    if sonuc >=85:\n",
    "        print('A')\n",
    "    elif sonuc >= 70:\n",
    "        print('B')\n",
    "    elif sonuc >=55:\n",
    "        print('C')\n",
    "    elif sonuc >=45:\n",
    "        print('D')\n",
    "    else:\n",
    "        print('F')"
   ]
  },
  {
   "cell_type": "code",
   "execution_count": null,
   "id": "84bdd9fa",
   "metadata": {},
   "outputs": [],
   "source": [
    "sonuc = int(input('Ogrenci Notu: '))\n",
    "\n",
    "if sonuc > 100 or sonuc < 0:\n",
    "    print('Gecersiz veri')\n",
    "else:\n",
    "    if sonuc >=85:\n",
    "        print('A')\n",
    "    elif sonuc >= 70:\n",
    "        print('B')\n",
    "    elif sonuc >=55:\n",
    "        print('C')\n",
    "    elif sonuc >=45:\n",
    "        print('D')\n",
    "    else:\n",
    "        print('F')"
   ]
  },
  {
   "cell_type": "code",
   "execution_count": null,
   "id": "33b7d8f5",
   "metadata": {},
   "outputs": [],
   "source": [
    "#eliflleri kaldirirsam ne olur?\n",
    "sonuc = int(input('Ogrenci Notu: '))\n",
    "\n",
    "if sonuc > 100 or sonuc < 0:\n",
    "    print('Gecersiz veri')\n",
    "else:\n",
    "    if sonuc >=85:\n",
    "        print('A')\n",
    "    if sonuc >= 70:\n",
    "        print('B')\n",
    "    if sonuc >=55:\n",
    "        print('C')\n",
    "    if sonuc >=45:\n",
    "        print('D')\n",
    "    else:\n",
    "        print('F')"
   ]
  },
  {
   "cell_type": "code",
   "execution_count": null,
   "id": "68c67935",
   "metadata": {},
   "outputs": [],
   "source": [
    "#eliflleri kaldirirsam ne olur?\n",
    "sonuc = int(input('Ogrenci Notu: '))\n",
    "\n",
    "if sonuc > 100 or sonuc < 0:\n",
    "    print('Gecersiz veri')\n",
    "else:\n",
    "    if sonuc >=85:\n",
    "        print('A')\n",
    "    elif sonuc >= 70:\n",
    "        print('B')\n",
    "    elif sonuc >=55:\n",
    "        print('C')\n",
    "    elif sonuc >=45:\n",
    "        print('D')\n",
    "    else:\n",
    "        print('F')"
   ]
  },
  {
   "cell_type": "code",
   "execution_count": null,
   "id": "440b3934",
   "metadata": {},
   "outputs": [],
   "source": [
    "#eliflleri kaldirirsam ne olur?\n",
    "sonuc = int(input('Ogrenci Notu: '))\n",
    "\n",
    "if sonuc > 100 or sonuc < 0:\n",
    "    print('Gecersiz veri')\n",
    "else:\n",
    "    if sonuc >=85:\n",
    "        print('A')\n",
    "    elif sonuc >= 70:\n",
    "        print('B')\n",
    "    elif sonuc >=55:\n",
    "        print('C')\n",
    "    elif sonuc >=45:\n",
    "        print('D')\n",
    "    else:\n",
    "        print('F')"
   ]
  },
  {
   "cell_type": "code",
   "execution_count": null,
   "id": "b266d52a",
   "metadata": {},
   "outputs": [],
   "source": [
    "#eliflleri kaldirirsam ne olur?\n",
    "sonuc = int(input('Ogrenci Notu: '))\n",
    "\n",
    "if sonuc > 100 or sonuc < 0:\n",
    "    print('Gecersiz veri')\n",
    "else:\n",
    "    if sonuc >=85:\n",
    "        print('A')\n",
    "    elif sonuc >= 70:\n",
    "        print('B')\n",
    "    elif sonuc >=55:\n",
    "        print('C')\n",
    "    elif sonuc >=45:\n",
    "        print('D')\n",
    "    else:\n",
    "        print('F')"
   ]
  },
  {
   "cell_type": "code",
   "execution_count": null,
   "id": "82e04d63",
   "metadata": {},
   "outputs": [],
   "source": [
    "#100 bosluk yazarsam ne olur?\n",
    "\n",
    "sonuc = int(input('Ogrenci Notu: '))\n",
    "\n",
    "if sonuc > 100 or sonuc < 0:\n",
    "    print('Gecersiz veri')\n",
    "else:\n",
    "    if sonuc >=85:\n",
    "        print('A')\n",
    "    elif sonuc >= 70:\n",
    "        print('B')\n",
    "    elif sonuc >=55:\n",
    "        print('C')\n",
    "    elif sonuc >=45:\n",
    "        print('D')\n",
    "    else:\n",
    "        print('F')\n"
   ]
  },
  {
   "cell_type": "code",
   "execution_count": null,
   "id": "74be2e90",
   "metadata": {},
   "outputs": [],
   "source": [
    "#Can egrisi disinda\n",
    "#profesyonel bir not sistemi yapalim\n",
    "#100>= not >= 85: A\n",
    "#84>= not >= 70: B\n",
    "#69>= not >= 55: C\n",
    "#54>= not >= 45: D\n",
    "#44>= not >= 0: F\n",
    "\n",
    "#rakam disindaki veri girisini engelleyelim\n",
    "\n",
    "#eliflleri kaldirirsam ne olur?\n",
    "sonuc = input('Ogrenci Notu: ')\n",
    "\n",
    "if not sonuc.isdigit() or int(sonuc) > 100 or int(sonuc) < 0:\n",
    "    print('Gecersiz veri')\n",
    "else:\n",
    "    sonuc=int(sonuc)\n",
    "    if sonuc >=85:\n",
    "        print('A')\n",
    "    elif sonuc >= 70:\n",
    "        print('B')\n",
    "    elif sonuc >=55:\n",
    "        print('C')\n",
    "    elif sonuc >=45:\n",
    "        print('D')\n",
    "    else:\n",
    "        print('F')"
   ]
  },
  {
   "cell_type": "code",
   "execution_count": null,
   "id": "a0031200",
   "metadata": {},
   "outputs": [],
   "source": [
    "pwd"
   ]
  },
  {
   "cell_type": "code",
   "execution_count": null,
   "id": "357d774d",
   "metadata": {},
   "outputs": [],
   "source": []
  }
 ],
 "metadata": {
  "kernelspec": {
   "display_name": "Python 3 (ipykernel)",
   "language": "python",
   "name": "python3"
  },
  "language_info": {
   "codemirror_mode": {
    "name": "ipython",
    "version": 3
   },
   "file_extension": ".py",
   "mimetype": "text/x-python",
   "name": "python",
   "nbconvert_exporter": "python",
   "pygments_lexer": "ipython3",
   "version": "3.9.7"
  }
 },
 "nbformat": 4,
 "nbformat_minor": 5
}
