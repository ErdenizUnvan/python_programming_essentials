{
 "cells": [
  {
   "cell_type": "code",
   "execution_count": null,
   "id": "ba63a6ba",
   "metadata": {},
   "outputs": [],
   "source": [
    "#if a > 0\n",
    "#while a > 0"
   ]
  },
  {
   "cell_type": "code",
   "execution_count": null,
   "id": "a368abfe",
   "metadata": {},
   "outputs": [],
   "source": [
    "#basit bir gerisayim sistemi yaratalim\n",
    "#\\n new line / yeni karakter/ enter'a bas ve alt satira gec  \n",
    "gerisayim = int(input('Bir sayi yazarak gerisayimi baslatin: '))\n",
    "while gerisayim > 0:\n",
    "    print(gerisayim)\n",
    "    gerisayim = gerisayim - 1\n",
    "print('Sayim bitti')"
   ]
  },
  {
   "cell_type": "code",
   "execution_count": null,
   "id": "748651d9",
   "metadata": {},
   "outputs": [],
   "source": [
    "import time\n",
    "gerisayim = int(input('Bir sayi yazarak gerisayimi baslatin: '))\n",
    "while gerisayim > 0:\n",
    "    print(gerisayim)\n",
    "    gerisayim = gerisayim - 1\n",
    "    time.sleep(1)\n",
    "print('Sayim bitti')"
   ]
  },
  {
   "cell_type": "code",
   "execution_count": null,
   "id": "645b1d02",
   "metadata": {},
   "outputs": [],
   "source": [
    "#soldan saga olacak sekilde ilgili gerisayimimizi yapmak istiyoruz\n",
    "#default print fonksyionu \\n fonksiyonu baska bir fonksiyon degistirmemiz lazim\n",
    "#end=','\n",
    "\n",
    "import time\n",
    "gerisayim = int(input('Bir sayi yazarak gerisayimi baslatin: '))\n",
    "while gerisayim > 0:\n",
    "    print(gerisayim,end=' ')\n",
    "    gerisayim -= 1\n",
    "    time.sleep(1)\n",
    "print('Sayim bitti.')"
   ]
  },
  {
   "cell_type": "code",
   "execution_count": null,
   "id": "2bd58537",
   "metadata": {},
   "outputs": [],
   "source": [
    "#fonksiyonel programlama : \n",
    "#n= n + 1\n",
    "#n += 1\n",
    "\n",
    "#n = n - 1\n",
    "#n -= 1"
   ]
  },
  {
   "cell_type": "code",
   "execution_count": null,
   "id": "c8e22e14",
   "metadata": {},
   "outputs": [],
   "source": [
    "#Yonetemeyecegimiz bir algoritma yaratirsak olur:\n",
    "\n",
    "#import time\n",
    "sayim = int(input('Bir sayi yazarak sayimi baslatin: '))\n",
    "while sayim > 0:\n",
    "    print(sayim)\n",
    "    sayim += 1\n",
    "    #time.sleep(1)\n",
    "print('Sayim bitti.')"
   ]
  },
  {
   "cell_type": "code",
   "execution_count": null,
   "id": "b9e846d0",
   "metadata": {},
   "outputs": [],
   "source": [
    "import time\n",
    "sayim = int(input('Bir sayi yazarak sayimi baslatin: '))\n",
    "while sayim > 0:\n",
    "    print(sayim)\n",
    "    sayim += 1\n",
    "    if sayim == 10:\n",
    "        break\n",
    "    time.sleep(1)\n",
    "print('Sayim bitti.')"
   ]
  },
  {
   "cell_type": "code",
   "execution_count": null,
   "id": "5ebd39a9",
   "metadata": {},
   "outputs": [],
   "source": [
    "import time\n",
    "sayim = int(input('Bir sayi yazarak sayimi baslatin: '))\n",
    "while sayim > 0:\n",
    "    if sayim == 10:\n",
    "        break\n",
    "    print(sayim)\n",
    "    sayim += 1\n",
    "    time.sleep(1)\n",
    "print('Sayim bitti.')"
   ]
  },
  {
   "cell_type": "code",
   "execution_count": null,
   "id": "2a4cf2d5",
   "metadata": {},
   "outputs": [],
   "source": [
    "#Gercek bir gerisayim yaratacagiz.\n",
    "#Rakamlar, oldugu satirda azalmali\n",
    "#\\n alt satira gecmemeli.\n",
    "#end =',' fonksiyonu ile soldan saga yazilmamali"
   ]
  },
  {
   "cell_type": "code",
   "execution_count": null,
   "id": "833ef745",
   "metadata": {},
   "outputs": [],
   "source": [
    "#carriage return\n",
    "#\\r\n",
    "#end =' '"
   ]
  },
  {
   "cell_type": "code",
   "execution_count": null,
   "id": "a86eb392",
   "metadata": {},
   "outputs": [],
   "source": [
    "import time\n",
    "gerisayim = int(input('Bir sayi yazarak gerisayimi baslatin: '))\n",
    "while gerisayim > 0:\n",
    "    print(f'\\r{gerisayim}',end=' ')\n",
    "    gerisayim -= 1\n",
    "    time.sleep(1)\n",
    "print('\\rSayim bitti.')"
   ]
  },
  {
   "cell_type": "code",
   "execution_count": null,
   "id": "5f304d3b",
   "metadata": {},
   "outputs": [],
   "source": []
  }
 ],
 "metadata": {
  "kernelspec": {
   "display_name": "Python 3 (ipykernel)",
   "language": "python",
   "name": "python3"
  },
  "language_info": {
   "codemirror_mode": {
    "name": "ipython",
    "version": 3
   },
   "file_extension": ".py",
   "mimetype": "text/x-python",
   "name": "python",
   "nbconvert_exporter": "python",
   "pygments_lexer": "ipython3",
   "version": "3.9.7"
  }
 },
 "nbformat": 4,
 "nbformat_minor": 5
}
