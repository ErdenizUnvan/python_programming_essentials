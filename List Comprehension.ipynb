{
 "cells": [
  {
   "cell_type": "code",
   "execution_count": null,
   "id": "6c278aaa",
   "metadata": {},
   "outputs": [],
   "source": [
    "#List Comprehensive/List Comprehension"
   ]
  },
  {
   "cell_type": "code",
   "execution_count": null,
   "id": "4949dcc6",
   "metadata": {},
   "outputs": [],
   "source": [
    "yeni1 = []\n",
    "#task: sayilar'dan pozitif sayilari bul\n",
    "#yeni1 isimli bir liste yarat\n",
    "#Ilgili pozitif sayilari yeni1 listesine +1 olarak ekle\n",
    "sayilar = [1,2,3,4,5,0,-1,-2,-3,-4,-5]\n",
    "for sayi in sayilar:\n",
    "    #print(sayi,end=',')\n",
    "    if sayi >= 0:\n",
    "        yeni1.append(sayi+1)\n",
    "yeni1"
   ]
  },
  {
   "cell_type": "code",
   "execution_count": null,
   "id": "220dc636",
   "metadata": {},
   "outputs": [],
   "source": [
    "yeni2 =[x+1 for x in sayilar if x >= 0]\n",
    "yeni2"
   ]
  },
  {
   "cell_type": "code",
   "execution_count": null,
   "id": "2f10648c",
   "metadata": {},
   "outputs": [],
   "source": [
    "yeni2==yeni1"
   ]
  },
  {
   "cell_type": "code",
   "execution_count": null,
   "id": "cc6dcc93",
   "metadata": {},
   "outputs": [],
   "source": [
    "#task2: Isminin bas harfi A ile baslayanlari bul\n",
    "#yeni3 isimli liste olustur\n",
    "#Ilgili ismi yeni3 listesine soyle ekle:\n",
    "#ismin basharfi + o ismin uzunlugu\n",
    "yeni3 =[]\n",
    "isimler = ['Ali','Ayse','Ahmet','Abdullah','Hayriye','Bahadir','Hasan','Fatma']\n",
    "for isim in isimler:\n",
    "    if isim[0]=='A':\n",
    "        yeni3.append(isim[0]+ str(len(isim)))\n",
    "yeni3"
   ]
  },
  {
   "cell_type": "code",
   "execution_count": null,
   "id": "378a40aa",
   "metadata": {},
   "outputs": [],
   "source": [
    "#bu ornegi list comprehension ile yapalim\n",
    "yeni4 = [x[0]+str(len(x))  for x in isimler if x[0]=='A']\n",
    "yeni4"
   ]
  },
  {
   "cell_type": "code",
   "execution_count": null,
   "id": "3721725d",
   "metadata": {},
   "outputs": [],
   "source": [
    "yeni4==yeni3"
   ]
  },
  {
   "cell_type": "code",
   "execution_count": null,
   "id": "b1f86a2b",
   "metadata": {},
   "outputs": [],
   "source": []
  }
 ],
 "metadata": {
  "kernelspec": {
   "display_name": "Python 3 (ipykernel)",
   "language": "python",
   "name": "python3"
  },
  "language_info": {
   "codemirror_mode": {
    "name": "ipython",
    "version": 3
   },
   "file_extension": ".py",
   "mimetype": "text/x-python",
   "name": "python",
   "nbconvert_exporter": "python",
   "pygments_lexer": "ipython3",
   "version": "3.8.2"
  }
 },
 "nbformat": 4,
 "nbformat_minor": 5
}
