{
 "cells": [
  {
   "cell_type": "code",
   "execution_count": 2,
   "id": "b060e173",
   "metadata": {},
   "outputs": [
    {
     "data": {
      "text/plain": [
       "0.5696168353245855"
      ]
     },
     "execution_count": 2,
     "metadata": {},
     "output_type": "execute_result"
    }
   ],
   "source": [
    "#For loopu\n",
    "import random\n",
    "a = random.random()\n",
    "a"
   ]
  },
  {
   "cell_type": "code",
   "execution_count": 4,
   "id": "b0c21004",
   "metadata": {},
   "outputs": [
    {
     "data": {
      "text/plain": [
       "63"
      ]
     },
     "execution_count": 4,
     "metadata": {},
     "output_type": "execute_result"
    }
   ],
   "source": [
    "a = random.randint(1,100)\n",
    "a"
   ]
  },
  {
   "cell_type": "code",
   "execution_count": 5,
   "id": "9fc64035",
   "metadata": {},
   "outputs": [
    {
     "name": "stdout",
     "output_type": "stream",
     "text": [
      "0\n",
      "1\n",
      "2\n",
      "3\n",
      "4\n",
      "5\n",
      "6\n",
      "7\n",
      "8\n",
      "9\n"
     ]
    }
   ],
   "source": [
    "#range\n",
    "for sayi in range(10):\n",
    "    print(sayi)"
   ]
  },
  {
   "cell_type": "code",
   "execution_count": 6,
   "id": "f392e4b6",
   "metadata": {},
   "outputs": [
    {
     "name": "stdout",
     "output_type": "stream",
     "text": [
      "E\n",
      "r\n",
      "d\n",
      "e\n",
      "n\n",
      "i\n",
      "z\n"
     ]
    }
   ],
   "source": [
    "isim = 'Erdeniz'\n",
    "for hece in isim:\n",
    "    print(hece)"
   ]
  },
  {
   "cell_type": "code",
   "execution_count": 7,
   "id": "69a08aa8",
   "metadata": {},
   "outputs": [
    {
     "name": "stdout",
     "output_type": "stream",
     "text": [
      "Erdeniz\n",
      "Erdeniz\n",
      "Erdeniz\n",
      "Erdeniz\n",
      "Erdeniz\n",
      "Erdeniz\n",
      "Erdeniz\n"
     ]
    }
   ],
   "source": [
    "isim = 'Erdeniz'\n",
    "for hece in isim:\n",
    "    print(isim)"
   ]
  },
  {
   "cell_type": "code",
   "execution_count": 8,
   "id": "379c7b69",
   "metadata": {},
   "outputs": [
    {
     "name": "stdout",
     "output_type": "stream",
     "text": [
      "Bir sifre yazin:   @#123abcDEF ?\n",
      " \n",
      " \n",
      "@\n",
      "#\n",
      "1\n",
      "2\n",
      "3\n",
      "a\n",
      "b\n",
      "c\n",
      "D\n",
      "E\n",
      "F\n",
      " \n",
      "?\n"
     ]
    }
   ],
   "source": [
    "sifre = input('Bir sifre yazin: ')\n",
    "for karakter in sifre:\n",
    "    print(karakter)"
   ]
  },
  {
   "cell_type": "code",
   "execution_count": 9,
   "id": "5dc273dd",
   "metadata": {},
   "outputs": [
    {
     "name": "stdout",
     "output_type": "stream",
     "text": [
      "Bir sifre yazin:    @#123abcDEF ?\n"
     ]
    },
    {
     "data": {
      "text/plain": [
       "3"
      ]
     },
     "execution_count": 9,
     "metadata": {},
     "output_type": "execute_result"
    }
   ],
   "source": [
    "buyuk_harf = 0\n",
    "sifre = input('Bir sifre yazin: ')\n",
    "for karakter in sifre:\n",
    "    if karakter.isupper():\n",
    "        buyuk_harf+=1\n",
    "buyuk_harf"
   ]
  },
  {
   "cell_type": "code",
   "execution_count": 12,
   "id": "2523bcf2",
   "metadata": {},
   "outputs": [
    {
     "name": "stdout",
     "output_type": "stream",
     "text": [
      "Bir sayi yaz: 5\n",
      "0\n",
      "1\n",
      "2\n",
      "3\n",
      "4\n"
     ]
    }
   ],
   "source": [
    "#break\n",
    "#continue\n",
    "import time\n",
    "sayi = int(input('Bir sayi yaz: '))\n",
    "for rakam in range(10):\n",
    "    if rakam == sayi:\n",
    "        break\n",
    "    print(rakam)\n",
    "    time.sleep(1)"
   ]
  },
  {
   "cell_type": "code",
   "execution_count": 15,
   "id": "ebdcb205",
   "metadata": {},
   "outputs": [
    {
     "name": "stdout",
     "output_type": "stream",
     "text": [
      "Bir sayi yaz: 5\n",
      "0\n",
      "1\n",
      "2\n",
      "3\n",
      "4\n",
      "6\n",
      "7\n",
      "8\n",
      "9\n"
     ]
    }
   ],
   "source": [
    "import time\n",
    "sayi = int(input('Bir sayi yaz: '))\n",
    "for rakam in range(10):\n",
    "    if rakam == sayi:\n",
    "        #print('rakam ile sayi esit')\n",
    "        continue\n",
    "    print(rakam)\n",
    "    time.sleep(1)"
   ]
  },
  {
   "cell_type": "code",
   "execution_count": null,
   "id": "57562d58",
   "metadata": {},
   "outputs": [],
   "source": []
  }
 ],
 "metadata": {
  "kernelspec": {
   "display_name": "Python 3 (ipykernel)",
   "language": "python",
   "name": "python3"
  },
  "language_info": {
   "codemirror_mode": {
    "name": "ipython",
    "version": 3
   },
   "file_extension": ".py",
   "mimetype": "text/x-python",
   "name": "python",
   "nbconvert_exporter": "python",
   "pygments_lexer": "ipython3",
   "version": "3.9.7"
  }
 },
 "nbformat": 4,
 "nbformat_minor": 5
}
