{
 "cells": [
  {
   "cell_type": "code",
   "execution_count": 1,
   "id": "46b832aa",
   "metadata": {},
   "outputs": [
    {
     "data": {
      "text/plain": [
       "dict"
      ]
     },
     "execution_count": 1,
     "metadata": {},
     "output_type": "execute_result"
    }
   ],
   "source": [
    "#Dictionary\n",
    "#Sozluk\n",
    "#Merhaba => Hello\n",
    "#Key:Value\n",
    "#{ ile baslar } ile biter\n",
    "#key1:value1,key2:value2,key3:value3\n",
    "#key\n",
    "#value\n",
    "#python veri yapilarindan olusur\n",
    "dict1 = {'key1':'value1'}\n",
    "type(dict1)"
   ]
  },
  {
   "cell_type": "code",
   "execution_count": 2,
   "id": "460cb9df",
   "metadata": {},
   "outputs": [],
   "source": [
    "dict2 = {}\n",
    "dict2['key1']='value1'"
   ]
  },
  {
   "cell_type": "code",
   "execution_count": 3,
   "id": "f38c26f5",
   "metadata": {},
   "outputs": [
    {
     "data": {
      "text/plain": [
       "dict"
      ]
     },
     "execution_count": 3,
     "metadata": {},
     "output_type": "execute_result"
    }
   ],
   "source": [
    "type(dict2)"
   ]
  },
  {
   "cell_type": "code",
   "execution_count": 4,
   "id": "d720a4b6",
   "metadata": {},
   "outputs": [
    {
     "data": {
      "text/plain": [
       "{'key1': 'value1'}"
      ]
     },
     "execution_count": 4,
     "metadata": {},
     "output_type": "execute_result"
    }
   ],
   "source": [
    "dict2"
   ]
  },
  {
   "cell_type": "code",
   "execution_count": 5,
   "id": "aa39d43b",
   "metadata": {},
   "outputs": [
    {
     "data": {
      "text/plain": [
       "{'key1': 'value1', 'key2': 'value2'}"
      ]
     },
     "execution_count": 5,
     "metadata": {},
     "output_type": "execute_result"
    }
   ],
   "source": [
    "dict2['key2']='value2'\n",
    "dict2"
   ]
  },
  {
   "cell_type": "code",
   "execution_count": 6,
   "id": "a0b60bde",
   "metadata": {},
   "outputs": [],
   "source": [
    "banka_hesabi ={'TL':1}"
   ]
  },
  {
   "cell_type": "code",
   "execution_count": 7,
   "id": "45740164",
   "metadata": {},
   "outputs": [
    {
     "data": {
      "text/plain": [
       "dict"
      ]
     },
     "execution_count": 7,
     "metadata": {},
     "output_type": "execute_result"
    }
   ],
   "source": [
    "type(banka_hesabi)"
   ]
  },
  {
   "cell_type": "code",
   "execution_count": 8,
   "id": "7e1f19e3",
   "metadata": {},
   "outputs": [
    {
     "data": {
      "text/plain": [
       "1"
      ]
     },
     "execution_count": 8,
     "metadata": {},
     "output_type": "execute_result"
    }
   ],
   "source": [
    "banka_hesabi['TL']"
   ]
  },
  {
   "cell_type": "code",
   "execution_count": 9,
   "id": "b0b7cc13",
   "metadata": {},
   "outputs": [
    {
     "data": {
      "text/plain": [
       "{'TL': 1, 'Dolar': 2}"
      ]
     },
     "execution_count": 9,
     "metadata": {},
     "output_type": "execute_result"
    }
   ],
   "source": [
    "banka_hesabi['Dolar']=2\n",
    "banka_hesabi"
   ]
  },
  {
   "cell_type": "code",
   "execution_count": 10,
   "id": "02fe29eb",
   "metadata": {},
   "outputs": [
    {
     "data": {
      "text/plain": [
       "2"
      ]
     },
     "execution_count": 10,
     "metadata": {},
     "output_type": "execute_result"
    }
   ],
   "source": [
    "len(banka_hesabi)"
   ]
  },
  {
   "cell_type": "code",
   "execution_count": 11,
   "id": "8103f390",
   "metadata": {},
   "outputs": [
    {
     "data": {
      "text/plain": [
       "2"
      ]
     },
     "execution_count": 11,
     "metadata": {},
     "output_type": "execute_result"
    }
   ],
   "source": [
    "banka_hesabi['Dolar']"
   ]
  },
  {
   "cell_type": "code",
   "execution_count": 12,
   "id": "624fded3",
   "metadata": {},
   "outputs": [
    {
     "data": {
      "text/plain": [
       "int"
      ]
     },
     "execution_count": 12,
     "metadata": {},
     "output_type": "execute_result"
    }
   ],
   "source": [
    "type(banka_hesabi['Dolar'])"
   ]
  },
  {
   "cell_type": "code",
   "execution_count": 13,
   "id": "696b55ec",
   "metadata": {},
   "outputs": [],
   "source": [
    "banka = ['TL','Dolar','Euro']"
   ]
  },
  {
   "cell_type": "code",
   "execution_count": 14,
   "id": "82a75430",
   "metadata": {},
   "outputs": [
    {
     "data": {
      "text/plain": [
       "4"
      ]
     },
     "execution_count": 14,
     "metadata": {},
     "output_type": "execute_result"
    }
   ],
   "source": [
    "banka.append(banka_hesabi)\n",
    "len(banka)"
   ]
  },
  {
   "cell_type": "code",
   "execution_count": 15,
   "id": "87b0ea7c",
   "metadata": {},
   "outputs": [
    {
     "data": {
      "text/plain": [
       "'TL'"
      ]
     },
     "execution_count": 15,
     "metadata": {},
     "output_type": "execute_result"
    }
   ],
   "source": [
    "banka[0]"
   ]
  },
  {
   "cell_type": "code",
   "execution_count": 16,
   "id": "b51dadc8",
   "metadata": {},
   "outputs": [
    {
     "data": {
      "text/plain": [
       "'Dolar'"
      ]
     },
     "execution_count": 16,
     "metadata": {},
     "output_type": "execute_result"
    }
   ],
   "source": [
    "banka[1]"
   ]
  },
  {
   "cell_type": "code",
   "execution_count": 17,
   "id": "424c2b34",
   "metadata": {},
   "outputs": [
    {
     "data": {
      "text/plain": [
       "'Euro'"
      ]
     },
     "execution_count": 17,
     "metadata": {},
     "output_type": "execute_result"
    }
   ],
   "source": [
    "banka[2]"
   ]
  },
  {
   "cell_type": "code",
   "execution_count": 18,
   "id": "56352e3d",
   "metadata": {},
   "outputs": [
    {
     "data": {
      "text/plain": [
       "{'TL': 1, 'Dolar': 2}"
      ]
     },
     "execution_count": 18,
     "metadata": {},
     "output_type": "execute_result"
    }
   ],
   "source": [
    "banka[3]"
   ]
  },
  {
   "cell_type": "code",
   "execution_count": 19,
   "id": "b2c98875",
   "metadata": {},
   "outputs": [
    {
     "data": {
      "text/plain": [
       "dict"
      ]
     },
     "execution_count": 19,
     "metadata": {},
     "output_type": "execute_result"
    }
   ],
   "source": [
    "type(banka[3])"
   ]
  },
  {
   "cell_type": "code",
   "execution_count": 20,
   "id": "ea79b108",
   "metadata": {},
   "outputs": [
    {
     "data": {
      "text/plain": [
       "['TL', 'Dolar', 'Euro', {'TL': 1, 'Dolar': 2}]"
      ]
     },
     "execution_count": 20,
     "metadata": {},
     "output_type": "execute_result"
    }
   ],
   "source": [
    "banka"
   ]
  },
  {
   "cell_type": "code",
   "execution_count": 21,
   "id": "1740c86f",
   "metadata": {},
   "outputs": [
    {
     "data": {
      "text/plain": [
       "{'TL': 1, 'Dolar': 2}"
      ]
     },
     "execution_count": 21,
     "metadata": {},
     "output_type": "execute_result"
    }
   ],
   "source": [
    "banka[3]"
   ]
  },
  {
   "cell_type": "code",
   "execution_count": 22,
   "id": "eba35761",
   "metadata": {},
   "outputs": [
    {
     "data": {
      "text/plain": [
       "1"
      ]
     },
     "execution_count": 22,
     "metadata": {},
     "output_type": "execute_result"
    }
   ],
   "source": [
    "banka[3]['TL']"
   ]
  },
  {
   "cell_type": "code",
   "execution_count": 23,
   "id": "be7c2611",
   "metadata": {},
   "outputs": [
    {
     "data": {
      "text/plain": [
       "2"
      ]
     },
     "execution_count": 23,
     "metadata": {},
     "output_type": "execute_result"
    }
   ],
   "source": [
    "banka[3]['Dolar']"
   ]
  },
  {
   "cell_type": "code",
   "execution_count": 24,
   "id": "f631e52e",
   "metadata": {},
   "outputs": [],
   "source": [
    "banka.append(1)"
   ]
  },
  {
   "cell_type": "code",
   "execution_count": 25,
   "id": "0d1c0ca0",
   "metadata": {},
   "outputs": [],
   "source": [
    "banka.append(1.1)"
   ]
  },
  {
   "cell_type": "code",
   "execution_count": 26,
   "id": "9288f0ba",
   "metadata": {},
   "outputs": [
    {
     "data": {
      "text/plain": [
       "['TL', 'Dolar', 'Euro', {'TL': 1, 'Dolar': 2}, 1, 1.1]"
      ]
     },
     "execution_count": 26,
     "metadata": {},
     "output_type": "execute_result"
    }
   ],
   "source": [
    "banka"
   ]
  },
  {
   "cell_type": "code",
   "execution_count": 27,
   "id": "7b9f3f5b",
   "metadata": {},
   "outputs": [
    {
     "data": {
      "text/plain": [
       "1"
      ]
     },
     "execution_count": 27,
     "metadata": {},
     "output_type": "execute_result"
    }
   ],
   "source": [
    "banka[4]"
   ]
  },
  {
   "cell_type": "code",
   "execution_count": 28,
   "id": "8c8f3ce2",
   "metadata": {},
   "outputs": [
    {
     "data": {
      "text/plain": [
       "int"
      ]
     },
     "execution_count": 28,
     "metadata": {},
     "output_type": "execute_result"
    }
   ],
   "source": [
    "type(banka[4])"
   ]
  },
  {
   "cell_type": "code",
   "execution_count": 29,
   "id": "eed42a84",
   "metadata": {},
   "outputs": [
    {
     "data": {
      "text/plain": [
       "1.1"
      ]
     },
     "execution_count": 29,
     "metadata": {},
     "output_type": "execute_result"
    }
   ],
   "source": [
    "banka[5]"
   ]
  },
  {
   "cell_type": "code",
   "execution_count": 30,
   "id": "aa503578",
   "metadata": {},
   "outputs": [
    {
     "data": {
      "text/plain": [
       "float"
      ]
     },
     "execution_count": 30,
     "metadata": {},
     "output_type": "execute_result"
    }
   ],
   "source": [
    "type(banka[5])"
   ]
  },
  {
   "cell_type": "code",
   "execution_count": 31,
   "id": "fd90708c",
   "metadata": {},
   "outputs": [
    {
     "data": {
      "text/plain": [
       "{'TL': 1, 'Dolar': 2}"
      ]
     },
     "execution_count": 31,
     "metadata": {},
     "output_type": "execute_result"
    }
   ],
   "source": [
    "banka_hesabi"
   ]
  },
  {
   "cell_type": "code",
   "execution_count": 32,
   "id": "b99a0ee6",
   "metadata": {},
   "outputs": [
    {
     "data": {
      "text/plain": [
       "dict_items([('TL', 1), ('Dolar', 2)])"
      ]
     },
     "execution_count": 32,
     "metadata": {},
     "output_type": "execute_result"
    }
   ],
   "source": [
    "banka_hesabi.items()"
   ]
  },
  {
   "cell_type": "code",
   "execution_count": 33,
   "id": "8ebeae64",
   "metadata": {},
   "outputs": [
    {
     "data": {
      "text/plain": [
       "dict_keys(['TL', 'Dolar'])"
      ]
     },
     "execution_count": 33,
     "metadata": {},
     "output_type": "execute_result"
    }
   ],
   "source": [
    "banka_hesabi.keys()"
   ]
  },
  {
   "cell_type": "code",
   "execution_count": 34,
   "id": "fa993c36",
   "metadata": {},
   "outputs": [
    {
     "data": {
      "text/plain": [
       "dict_values([1, 2])"
      ]
     },
     "execution_count": 34,
     "metadata": {},
     "output_type": "execute_result"
    }
   ],
   "source": [
    "banka_hesabi.values()"
   ]
  },
  {
   "cell_type": "code",
   "execution_count": 35,
   "id": "2be380e4",
   "metadata": {},
   "outputs": [
    {
     "name": "stdout",
     "output_type": "stream",
     "text": [
      "TL=>1\n",
      "Dolar=>2\n"
     ]
    }
   ],
   "source": [
    "for key,value in banka_hesabi.items():\n",
    "    print(f'{key}=>{value}')"
   ]
  },
  {
   "cell_type": "code",
   "execution_count": 36,
   "id": "346938ae",
   "metadata": {},
   "outputs": [
    {
     "data": {
      "text/plain": [
       "list"
      ]
     },
     "execution_count": 36,
     "metadata": {},
     "output_type": "execute_result"
    }
   ],
   "source": [
    "isimler =['Ali','Ayse','Fatma','Veli']\n",
    "yaslar = [18,19,20,21]\n",
    "type(isimler)"
   ]
  },
  {
   "cell_type": "code",
   "execution_count": 37,
   "id": "a0bacfea",
   "metadata": {},
   "outputs": [
    {
     "data": {
      "text/plain": [
       "list"
      ]
     },
     "execution_count": 37,
     "metadata": {},
     "output_type": "execute_result"
    }
   ],
   "source": [
    "type(yaslar)"
   ]
  },
  {
   "cell_type": "code",
   "execution_count": 38,
   "id": "82e91fe0",
   "metadata": {},
   "outputs": [
    {
     "data": {
      "text/plain": [
       "'Ali'"
      ]
     },
     "execution_count": 38,
     "metadata": {},
     "output_type": "execute_result"
    }
   ],
   "source": [
    "isimler[0]"
   ]
  },
  {
   "cell_type": "code",
   "execution_count": 39,
   "id": "903ebf8c",
   "metadata": {},
   "outputs": [
    {
     "data": {
      "text/plain": [
       "18"
      ]
     },
     "execution_count": 39,
     "metadata": {},
     "output_type": "execute_result"
    }
   ],
   "source": [
    "yaslar[0]"
   ]
  },
  {
   "cell_type": "code",
   "execution_count": 41,
   "id": "45e9c8e8",
   "metadata": {},
   "outputs": [
    {
     "data": {
      "text/plain": [
       "dict"
      ]
     },
     "execution_count": 41,
     "metadata": {},
     "output_type": "execute_result"
    }
   ],
   "source": [
    "insanlar ={}\n",
    "type(insanlar)"
   ]
  },
  {
   "cell_type": "code",
   "execution_count": 42,
   "id": "19e26a86",
   "metadata": {},
   "outputs": [
    {
     "data": {
      "text/plain": [
       "{'Ali': 18, 'Ayse': 19, 'Fatma': 20, 'Veli': 21}"
      ]
     },
     "execution_count": 42,
     "metadata": {},
     "output_type": "execute_result"
    }
   ],
   "source": [
    "insanlar[isimler[0]] = yaslar[0]\n",
    "insanlar[isimler[1]] = yaslar[1]\n",
    "insanlar[isimler[2]] = yaslar[2]\n",
    "insanlar[isimler[3]] = yaslar[3]\n",
    "insanlar"
   ]
  },
  {
   "cell_type": "code",
   "execution_count": 43,
   "id": "63109d19",
   "metadata": {},
   "outputs": [
    {
     "data": {
      "text/plain": [
       "18"
      ]
     },
     "execution_count": 43,
     "metadata": {},
     "output_type": "execute_result"
    }
   ],
   "source": [
    "insanlar['Ali']"
   ]
  },
  {
   "cell_type": "code",
   "execution_count": 44,
   "id": "58b73809",
   "metadata": {},
   "outputs": [
    {
     "data": {
      "text/plain": [
       "19"
      ]
     },
     "execution_count": 44,
     "metadata": {},
     "output_type": "execute_result"
    }
   ],
   "source": [
    "insanlar['Ayse']"
   ]
  },
  {
   "cell_type": "code",
   "execution_count": 45,
   "id": "a0c05449",
   "metadata": {},
   "outputs": [
    {
     "name": "stdout",
     "output_type": "stream",
     "text": [
      "Kisinin Adi: Ali / Kisinin Yasi: 18\n",
      "Kisinin Adi: Ayse / Kisinin Yasi: 19\n",
      "Kisinin Adi: Fatma / Kisinin Yasi: 20\n",
      "Kisinin Adi: Veli / Kisinin Yasi: 21\n"
     ]
    }
   ],
   "source": [
    "for key,value in insanlar.items():\n",
    "    print(f'Kisinin Adi: {key} / Kisinin Yasi: {value}')"
   ]
  },
  {
   "cell_type": "code",
   "execution_count": 47,
   "id": "414b4bb2",
   "metadata": {},
   "outputs": [
    {
     "name": "stdout",
     "output_type": "stream",
     "text": [
      "Kisinin Adi: Ali / Kisinin Yasi: 18\n",
      "Kisinin Adi: Ayse / Kisinin Yasi: 19\n",
      "Kisinin Adi: Fatma / Kisinin Yasi: 20\n",
      "Kisinin Adi: Veli / Kisinin Yasi: 21\n"
     ]
    }
   ],
   "source": [
    "for key,value in insanlar.items():\n",
    "    print(f'Kisinin Adi: {key} / Kisinin Yasi: {value}')"
   ]
  },
  {
   "cell_type": "code",
   "execution_count": 48,
   "id": "67fdbf1b",
   "metadata": {},
   "outputs": [
    {
     "data": {
      "text/plain": [
       "[18, 19, 20]"
      ]
     },
     "execution_count": 48,
     "metadata": {},
     "output_type": "execute_result"
    }
   ],
   "source": [
    "Ali = [18,19,20]\n",
    "Ali"
   ]
  },
  {
   "cell_type": "code",
   "execution_count": 49,
   "id": "f6606f2f",
   "metadata": {},
   "outputs": [
    {
     "data": {
      "text/plain": [
       "list"
      ]
     },
     "execution_count": 49,
     "metadata": {},
     "output_type": "execute_result"
    }
   ],
   "source": [
    "type(Ali)"
   ]
  },
  {
   "cell_type": "code",
   "execution_count": 50,
   "id": "96f4805c",
   "metadata": {},
   "outputs": [],
   "source": [
    "Ali,Ayse,Veli = [18,19,20]"
   ]
  },
  {
   "cell_type": "code",
   "execution_count": 51,
   "id": "22dbdf65",
   "metadata": {},
   "outputs": [
    {
     "name": "stdout",
     "output_type": "stream",
     "text": [
      "18\n"
     ]
    }
   ],
   "source": [
    "print(Ali)"
   ]
  },
  {
   "cell_type": "code",
   "execution_count": 53,
   "id": "9ce53006",
   "metadata": {},
   "outputs": [
    {
     "name": "stdout",
     "output_type": "stream",
     "text": [
      "19\n"
     ]
    }
   ],
   "source": [
    "print(Ayse)"
   ]
  },
  {
   "cell_type": "code",
   "execution_count": 54,
   "id": "e0423a49",
   "metadata": {},
   "outputs": [
    {
     "name": "stdout",
     "output_type": "stream",
     "text": [
      "20\n"
     ]
    }
   ],
   "source": [
    "print(Veli)"
   ]
  },
  {
   "cell_type": "code",
   "execution_count": 55,
   "id": "aebba36e",
   "metadata": {},
   "outputs": [
    {
     "ename": "ValueError",
     "evalue": "too many values to unpack (expected 2)",
     "output_type": "error",
     "traceback": [
      "\u001b[1;31m---------------------------------------------------------------------------\u001b[0m",
      "\u001b[1;31mValueError\u001b[0m                                Traceback (most recent call last)",
      "\u001b[1;32m~\\AppData\\Local\\Temp/ipykernel_13072/1365242760.py\u001b[0m in \u001b[0;36m<module>\u001b[1;34m\u001b[0m\n\u001b[1;32m----> 1\u001b[1;33m \u001b[0mAli\u001b[0m\u001b[1;33m,\u001b[0m\u001b[0mAyse\u001b[0m \u001b[1;33m=\u001b[0m \u001b[1;33m[\u001b[0m\u001b[1;36m18\u001b[0m\u001b[1;33m,\u001b[0m\u001b[1;36m19\u001b[0m\u001b[1;33m,\u001b[0m\u001b[1;36m20\u001b[0m\u001b[1;33m]\u001b[0m\u001b[1;33m\u001b[0m\u001b[1;33m\u001b[0m\u001b[0m\n\u001b[0m",
      "\u001b[1;31mValueError\u001b[0m: too many values to unpack (expected 2)"
     ]
    }
   ],
   "source": [
    "Ali,Ayse = [18,19,20]"
   ]
  },
  {
   "cell_type": "code",
   "execution_count": 56,
   "id": "0ce00939",
   "metadata": {},
   "outputs": [],
   "source": [
    "Ali,Ayse = [18,19]"
   ]
  },
  {
   "cell_type": "code",
   "execution_count": 57,
   "id": "4472c080",
   "metadata": {},
   "outputs": [
    {
     "data": {
      "text/plain": [
       "18"
      ]
     },
     "execution_count": 57,
     "metadata": {},
     "output_type": "execute_result"
    }
   ],
   "source": [
    "Ali"
   ]
  },
  {
   "cell_type": "code",
   "execution_count": 58,
   "id": "c8b682e7",
   "metadata": {},
   "outputs": [
    {
     "data": {
      "text/plain": [
       "19"
      ]
     },
     "execution_count": 58,
     "metadata": {},
     "output_type": "execute_result"
    }
   ],
   "source": [
    "Ayse"
   ]
  },
  {
   "cell_type": "code",
   "execution_count": 59,
   "id": "071c14f6",
   "metadata": {},
   "outputs": [],
   "source": [
    "Ali,Ayse,Veli = [18,19,20]"
   ]
  },
  {
   "cell_type": "code",
   "execution_count": 60,
   "id": "3062ba57",
   "metadata": {},
   "outputs": [
    {
     "data": {
      "text/plain": [
       "19"
      ]
     },
     "execution_count": 60,
     "metadata": {},
     "output_type": "execute_result"
    }
   ],
   "source": [
    "_,Ayse,_ = [18,19,20]\n",
    "Ayse"
   ]
  },
  {
   "cell_type": "code",
   "execution_count": 61,
   "id": "e23e1e9e",
   "metadata": {},
   "outputs": [
    {
     "data": {
      "text/plain": [
       "{'Ali': 18, 'Ayse': 19, 'Fatma': 20, 'Veli': 21}"
      ]
     },
     "execution_count": 61,
     "metadata": {},
     "output_type": "execute_result"
    }
   ],
   "source": [
    "isimler =['Ali','Ayse','Fatma','Veli']\n",
    "yaslar = [18,19,20,21]\n",
    "insanlar2 = {}\n",
    "for index in range(len(isimler)):\n",
    "    insanlar2[isimler[index]] = yaslar[index]\n",
    "insanlar2"
   ]
  },
  {
   "cell_type": "code",
   "execution_count": 66,
   "id": "ba792f22",
   "metadata": {},
   "outputs": [
    {
     "data": {
      "text/plain": [
       "True"
      ]
     },
     "execution_count": 66,
     "metadata": {},
     "output_type": "execute_result"
    }
   ],
   "source": [
    "insanlar2 == insanlar"
   ]
  },
  {
   "cell_type": "code",
   "execution_count": 64,
   "id": "24e2b312",
   "metadata": {},
   "outputs": [
    {
     "data": {
      "text/plain": [
       "{'Ali': 18, 'Ayse': 19, 'Fatma': 20, 'Veli': 21}"
      ]
     },
     "execution_count": 64,
     "metadata": {},
     "output_type": "execute_result"
    }
   ],
   "source": [
    "insanlar2"
   ]
  },
  {
   "cell_type": "code",
   "execution_count": 65,
   "id": "8884cc44",
   "metadata": {},
   "outputs": [
    {
     "data": {
      "text/plain": [
       "{'Ali': 18, 'Ayse': 19, 'Fatma': 20, 'Veli': 21}"
      ]
     },
     "execution_count": 65,
     "metadata": {},
     "output_type": "execute_result"
    }
   ],
   "source": [
    "insanlar"
   ]
  },
  {
   "cell_type": "code",
   "execution_count": null,
   "id": "ea8e0c04",
   "metadata": {},
   "outputs": [],
   "source": []
  }
 ],
 "metadata": {
  "kernelspec": {
   "display_name": "Python 3 (ipykernel)",
   "language": "python",
   "name": "python3"
  },
  "language_info": {
   "codemirror_mode": {
    "name": "ipython",
    "version": 3
   },
   "file_extension": ".py",
   "mimetype": "text/x-python",
   "name": "python",
   "nbconvert_exporter": "python",
   "pygments_lexer": "ipython3",
   "version": "3.9.7"
  }
 },
 "nbformat": 4,
 "nbformat_minor": 5
}
