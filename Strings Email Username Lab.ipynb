{
 "cells": [
  {
   "cell_type": "code",
   "execution_count": 1,
   "id": "d2e6345f",
   "metadata": {},
   "outputs": [
    {
     "name": "stdout",
     "output_type": "stream",
     "text": [
      "Lutfen Isminizi yaziniz: Erdeniz\n",
      "Lutfen Soyisminizi yaziniz: Unvan\n",
      "Lutfen TC kimlik numaranizi yaziniz: 12345678901\n",
      "KC emailiniz : erdunva12345@knowledgeclub.net\n"
     ]
    }
   ],
   "source": [
    "#Task\n",
    "#KC'de ise girdik\n",
    "#Emailimiz username olusturacagiz\n",
    "#Calisanin isminin ilk 3 harfini alalim\n",
    "#Calisanin soyisminin de ilk 4 harfini alalim\n",
    "#TC kimlik nosunda ilk 5 rakamini alalim\n",
    "isim = input('Lutfen Isminizi yaziniz: ')\n",
    "soyisim= input('Lutfen Soyisminizi yaziniz: ')\n",
    "TC_kimlik_no = input('Lutfen TC kimlik numaranizi yaziniz: ')\n",
    "email = isim[:3].lower() + soyisim[:4].lower() +TC_kimlik_no[:5]\n",
    "print(f'KC emailiniz : {email}@knowledgeclub.net')"
   ]
  },
  {
   "cell_type": "code",
   "execution_count": null,
   "id": "d96c7326",
   "metadata": {},
   "outputs": [],
   "source": []
  }
 ],
 "metadata": {
  "kernelspec": {
   "display_name": "Python 3 (ipykernel)",
   "language": "python",
   "name": "python3"
  },
  "language_info": {
   "codemirror_mode": {
    "name": "ipython",
    "version": 3
   },
   "file_extension": ".py",
   "mimetype": "text/x-python",
   "name": "python",
   "nbconvert_exporter": "python",
   "pygments_lexer": "ipython3",
   "version": "3.9.7"
  }
 },
 "nbformat": 4,
 "nbformat_minor": 5
}
