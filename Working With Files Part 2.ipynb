{
 "cells": [
  {
   "cell_type": "code",
   "execution_count": 1,
   "id": "d9cd42f6",
   "metadata": {},
   "outputs": [],
   "source": [
    "#en kotu sinav sonucu alan ogrenci/ogrencilerin isimleri\n",
    "#en iyi sinav sonucu alan ogrenci/ogrencilerin isimleri"
   ]
  },
  {
   "cell_type": "code",
   "execution_count": 2,
   "id": "0a63c929",
   "metadata": {},
   "outputs": [],
   "source": [
    "with open('sinav.txt') as f:\n",
    "    sinav = f.readlines()"
   ]
  },
  {
   "cell_type": "code",
   "execution_count": 3,
   "id": "847909ee",
   "metadata": {},
   "outputs": [
    {
     "data": {
      "text/plain": [
       "list"
      ]
     },
     "execution_count": 3,
     "metadata": {},
     "output_type": "execute_result"
    }
   ],
   "source": [
    "type(sinav)"
   ]
  },
  {
   "cell_type": "code",
   "execution_count": 4,
   "id": "e4de1834",
   "metadata": {},
   "outputs": [
    {
     "data": {
      "text/plain": [
       "['Stephen Hawking:100\\n',\n",
       " 'Gary Kasparov:75\\n',\n",
       " 'Albert Einstein:78\\n',\n",
       " 'Paul Erdos:100\\n',\n",
       " 'Pierre De Fermat:68\\n',\n",
       " 'Isaac Newton:72\\n',\n",
       " 'Wilhelm von Leibniz:86\\n',\n",
       " 'Max Planc:90\\n',\n",
       " 'Werner Heisenberg:88\\n',\n",
       " 'Kurt Godel:92\\n',\n",
       " 'Leonhard Euler:91\\n',\n",
       " 'Cahit Arf:100\\n',\n",
       " 'Paul Dirac:78\\n',\n",
       " 'Alan Turing:95']"
      ]
     },
     "execution_count": 4,
     "metadata": {},
     "output_type": "execute_result"
    }
   ],
   "source": [
    "sinav"
   ]
  },
  {
   "cell_type": "code",
   "execution_count": 5,
   "id": "5192dac8",
   "metadata": {},
   "outputs": [
    {
     "data": {
      "text/plain": [
       "14"
      ]
     },
     "execution_count": 5,
     "metadata": {},
     "output_type": "execute_result"
    }
   ],
   "source": [
    "len(sinav)"
   ]
  },
  {
   "cell_type": "code",
   "execution_count": 6,
   "id": "7d7c247e",
   "metadata": {},
   "outputs": [
    {
     "data": {
      "text/plain": [
       "'Stephen Hawking:100\\n'"
      ]
     },
     "execution_count": 6,
     "metadata": {},
     "output_type": "execute_result"
    }
   ],
   "source": [
    "sinav[0]"
   ]
  },
  {
   "cell_type": "code",
   "execution_count": 11,
   "id": "a7ff77bd",
   "metadata": {},
   "outputs": [],
   "source": [
    "sinav_sonuclari = {}\n",
    "for ogrenci in sinav:\n",
    "    #print(ogrenci)\n",
    "    #print(ogrenci.strip())\n",
    "    #print(ogrenci.strip().split(':'))\n",
    "    #print(ogrenci.strip().split(':')[0]) #isimler\n",
    "    #print(ogrenci.strip().split(':')[1]) # sinav sonuclari\n",
    "    sinav_sonuclari[ogrenci.strip().split(':')[0]]=int(ogrenci.strip().split(':')[1])"
   ]
  },
  {
   "cell_type": "code",
   "execution_count": 12,
   "id": "b4eb8f44",
   "metadata": {},
   "outputs": [
    {
     "data": {
      "text/plain": [
       "{'Stephen Hawking': 100,\n",
       " 'Gary Kasparov': 75,\n",
       " 'Albert Einstein': 78,\n",
       " 'Paul Erdos': 100,\n",
       " 'Pierre De Fermat': 68,\n",
       " 'Isaac Newton': 72,\n",
       " 'Wilhelm von Leibniz': 86,\n",
       " 'Max Planc': 90,\n",
       " 'Werner Heisenberg': 88,\n",
       " 'Kurt Godel': 92,\n",
       " 'Leonhard Euler': 91,\n",
       " 'Cahit Arf': 100,\n",
       " 'Paul Dirac': 78,\n",
       " 'Alan Turing': 95}"
      ]
     },
     "execution_count": 12,
     "metadata": {},
     "output_type": "execute_result"
    }
   ],
   "source": [
    "sinav_sonuclari"
   ]
  },
  {
   "cell_type": "code",
   "execution_count": 13,
   "id": "818c4584",
   "metadata": {},
   "outputs": [
    {
     "data": {
      "text/plain": [
       "dict"
      ]
     },
     "execution_count": 13,
     "metadata": {},
     "output_type": "execute_result"
    }
   ],
   "source": [
    "type(sinav_sonuclari)"
   ]
  },
  {
   "cell_type": "code",
   "execution_count": 14,
   "id": "e1b85b87",
   "metadata": {},
   "outputs": [
    {
     "data": {
      "text/plain": [
       "14"
      ]
     },
     "execution_count": 14,
     "metadata": {},
     "output_type": "execute_result"
    }
   ],
   "source": [
    "len(sinav_sonuclari)"
   ]
  },
  {
   "cell_type": "code",
   "execution_count": 15,
   "id": "43421f3c",
   "metadata": {},
   "outputs": [
    {
     "data": {
      "text/plain": [
       "100"
      ]
     },
     "execution_count": 15,
     "metadata": {},
     "output_type": "execute_result"
    }
   ],
   "source": [
    "sinav_sonuclari['Cahit Arf']"
   ]
  },
  {
   "cell_type": "code",
   "execution_count": 16,
   "id": "050df201",
   "metadata": {},
   "outputs": [
    {
     "data": {
      "text/plain": [
       "dict_items([('Stephen Hawking', 100), ('Gary Kasparov', 75), ('Albert Einstein', 78), ('Paul Erdos', 100), ('Pierre De Fermat', 68), ('Isaac Newton', 72), ('Wilhelm von Leibniz', 86), ('Max Planc', 90), ('Werner Heisenberg', 88), ('Kurt Godel', 92), ('Leonhard Euler', 91), ('Cahit Arf', 100), ('Paul Dirac', 78), ('Alan Turing', 95)])"
      ]
     },
     "execution_count": 16,
     "metadata": {},
     "output_type": "execute_result"
    }
   ],
   "source": [
    "sinav_sonuclari.items()"
   ]
  },
  {
   "cell_type": "code",
   "execution_count": 17,
   "id": "dc56d70a",
   "metadata": {},
   "outputs": [
    {
     "data": {
      "text/plain": [
       "dict_keys(['Stephen Hawking', 'Gary Kasparov', 'Albert Einstein', 'Paul Erdos', 'Pierre De Fermat', 'Isaac Newton', 'Wilhelm von Leibniz', 'Max Planc', 'Werner Heisenberg', 'Kurt Godel', 'Leonhard Euler', 'Cahit Arf', 'Paul Dirac', 'Alan Turing'])"
      ]
     },
     "execution_count": 17,
     "metadata": {},
     "output_type": "execute_result"
    }
   ],
   "source": [
    "sinav_sonuclari.keys()"
   ]
  },
  {
   "cell_type": "code",
   "execution_count": 18,
   "id": "c545dcad",
   "metadata": {},
   "outputs": [
    {
     "data": {
      "text/plain": [
       "dict_values([100, 75, 78, 100, 68, 72, 86, 90, 88, 92, 91, 100, 78, 95])"
      ]
     },
     "execution_count": 18,
     "metadata": {},
     "output_type": "execute_result"
    }
   ],
   "source": [
    "sinav_sonuclari.values()"
   ]
  },
  {
   "cell_type": "code",
   "execution_count": 19,
   "id": "61abd12f",
   "metadata": {},
   "outputs": [
    {
     "data": {
      "text/plain": [
       "14"
      ]
     },
     "execution_count": 19,
     "metadata": {},
     "output_type": "execute_result"
    }
   ],
   "source": [
    "ogrenci_sayisi = len(sinav_sonuclari)\n",
    "ogrenci_sayisi"
   ]
  },
  {
   "cell_type": "code",
   "execution_count": 20,
   "id": "2666faef",
   "metadata": {},
   "outputs": [
    {
     "data": {
      "text/plain": [
       "86.64"
      ]
     },
     "execution_count": 20,
     "metadata": {},
     "output_type": "execute_result"
    }
   ],
   "source": [
    "sinav_ortalamasi = round(sum(sinav_sonuclari.values())/ogrenci_sayisi,2)\n",
    "sinav_ortalamasi"
   ]
  },
  {
   "cell_type": "code",
   "execution_count": 21,
   "id": "19d55996",
   "metadata": {},
   "outputs": [
    {
     "data": {
      "text/plain": [
       "100"
      ]
     },
     "execution_count": 21,
     "metadata": {},
     "output_type": "execute_result"
    }
   ],
   "source": [
    "en_yuksek_not = max(sinav_sonuclari.values())\n",
    "en_yuksek_not"
   ]
  },
  {
   "cell_type": "code",
   "execution_count": 22,
   "id": "42d3ae26",
   "metadata": {},
   "outputs": [
    {
     "data": {
      "text/plain": [
       "68"
      ]
     },
     "execution_count": 22,
     "metadata": {},
     "output_type": "execute_result"
    }
   ],
   "source": [
    "en_dusuk_not = min(sinav_sonuclari.values())\n",
    "en_dusuk_not"
   ]
  },
  {
   "cell_type": "code",
   "execution_count": 23,
   "id": "49c775b8",
   "metadata": {},
   "outputs": [
    {
     "name": "stdout",
     "output_type": "stream",
     "text": [
      "Ogrenci adi: Stephen Hawking / Ogrenci Sinav Sonucu: 100\n",
      "Ogrenci adi: Gary Kasparov / Ogrenci Sinav Sonucu: 75\n",
      "Ogrenci adi: Albert Einstein / Ogrenci Sinav Sonucu: 78\n",
      "Ogrenci adi: Paul Erdos / Ogrenci Sinav Sonucu: 100\n",
      "Ogrenci adi: Pierre De Fermat / Ogrenci Sinav Sonucu: 68\n",
      "Ogrenci adi: Isaac Newton / Ogrenci Sinav Sonucu: 72\n",
      "Ogrenci adi: Wilhelm von Leibniz / Ogrenci Sinav Sonucu: 86\n",
      "Ogrenci adi: Max Planc / Ogrenci Sinav Sonucu: 90\n",
      "Ogrenci adi: Werner Heisenberg / Ogrenci Sinav Sonucu: 88\n",
      "Ogrenci adi: Kurt Godel / Ogrenci Sinav Sonucu: 92\n",
      "Ogrenci adi: Leonhard Euler / Ogrenci Sinav Sonucu: 91\n",
      "Ogrenci adi: Cahit Arf / Ogrenci Sinav Sonucu: 100\n",
      "Ogrenci adi: Paul Dirac / Ogrenci Sinav Sonucu: 78\n",
      "Ogrenci adi: Alan Turing / Ogrenci Sinav Sonucu: 95\n"
     ]
    }
   ],
   "source": [
    "for key,value in sinav_sonuclari.items():\n",
    "    print(f'Ogrenci adi: {key} / Ogrenci Sinav Sonucu: {value}')"
   ]
  },
  {
   "cell_type": "code",
   "execution_count": 24,
   "id": "317a0c87",
   "metadata": {},
   "outputs": [
    {
     "name": "stdout",
     "output_type": "stream",
     "text": [
      "En yuksek not alan ogrencinin ismi:Stephen Hawking / En dusuk not: 100\n",
      "En yuksek not alan ogrencinin ismi:Paul Erdos / En dusuk not: 100\n",
      "En dusuk not alan ogrencinin ismi:Pierre De Fermat / En dusuk not: 68\n",
      "En yuksek not alan ogrencinin ismi:Cahit Arf / En dusuk not: 100\n"
     ]
    }
   ],
   "source": [
    "for key,value in sinav_sonuclari.items():\n",
    "    if value == en_dusuk_not:\n",
    "        print(f'En dusuk not alan ogrencinin ismi:{key} / En dusuk not: {value}')\n",
    "    elif value ==en_yuksek_not:\n",
    "        print(f'En yuksek not alan ogrencinin ismi:{key} / En dusuk not: {value}')"
   ]
  },
  {
   "cell_type": "markdown",
   "id": "233f14a8",
   "metadata": {},
   "source": [
    "Stephen Hawking:90\n",
    "Gary Kasparov:75\n",
    "Albert Einstein:78\n",
    "Paul Erdos:100\n",
    "Pierre De Fermat:68\n",
    "Isaac Newton:72\n",
    "Wilhelm von Leibniz:86\n",
    "Max Planc:90\n",
    "Werner Heisenberg:60\n",
    "Kurt Godel:92\n",
    "Leonhard Euler:91\n",
    "Cahit Arf:100\n",
    "Paul Dirac:78\n",
    "Alan Turing:100"
   ]
  },
  {
   "cell_type": "code",
   "execution_count": 33,
   "id": "e86ce013",
   "metadata": {},
   "outputs": [],
   "source": [
    "with open('sinavV2.txt') as f:\n",
    "    sinav = f.readlines()"
   ]
  },
  {
   "cell_type": "code",
   "execution_count": 34,
   "id": "66186e6f",
   "metadata": {},
   "outputs": [
    {
     "data": {
      "text/plain": [
       "['Stephen Hawking:90\\n',\n",
       " 'Gary Kasparov:75\\n',\n",
       " 'Albert Einstein:78\\n',\n",
       " 'Paul Erdos:90\\n',\n",
       " 'Pierre De Fermat:68\\n',\n",
       " 'Isaac Newton:72\\n',\n",
       " 'Wilhelm von Leibniz:86\\n',\n",
       " 'Max Planc:90\\n',\n",
       " 'Werner Heisenberg:60\\n',\n",
       " 'Kurt Godel:92\\n',\n",
       " 'Leonhard Euler:91\\n',\n",
       " 'Cahit Arf:100\\n',\n",
       " 'Paul Dirac:78\\n',\n",
       " 'Alan Turing:100']"
      ]
     },
     "execution_count": 34,
     "metadata": {},
     "output_type": "execute_result"
    }
   ],
   "source": [
    "sinav"
   ]
  },
  {
   "cell_type": "code",
   "execution_count": 35,
   "id": "c5858931",
   "metadata": {},
   "outputs": [],
   "source": [
    "sinav_sonuclari = {}\n",
    "for ogrenci in sinav:\n",
    "    #print(ogrenci)\n",
    "    #print(ogrenci.strip())\n",
    "    #print(ogrenci.strip().split(':'))\n",
    "    #print(ogrenci.strip().split(':')[0]) #isimler\n",
    "    #print(ogrenci.strip().split(':')[1]) # sinav sonuclari\n",
    "    sinav_sonuclari[ogrenci.strip().split(':')[0]]=int(ogrenci.strip().split(':')[1])"
   ]
  },
  {
   "cell_type": "code",
   "execution_count": 36,
   "id": "11cf5645",
   "metadata": {},
   "outputs": [
    {
     "data": {
      "text/plain": [
       "14"
      ]
     },
     "execution_count": 36,
     "metadata": {},
     "output_type": "execute_result"
    }
   ],
   "source": [
    "ogrenci_sayisi = len(sinav_sonuclari)\n",
    "ogrenci_sayisi"
   ]
  },
  {
   "cell_type": "code",
   "execution_count": 37,
   "id": "359eae17",
   "metadata": {},
   "outputs": [
    {
     "data": {
      "text/plain": [
       "83.57"
      ]
     },
     "execution_count": 37,
     "metadata": {},
     "output_type": "execute_result"
    }
   ],
   "source": [
    "sinav_ortalamasi = round(sum(sinav_sonuclari.values())/ogrenci_sayisi,2)\n",
    "sinav_ortalamasi"
   ]
  },
  {
   "cell_type": "code",
   "execution_count": 38,
   "id": "5643d037",
   "metadata": {},
   "outputs": [
    {
     "data": {
      "text/plain": [
       "100"
      ]
     },
     "execution_count": 38,
     "metadata": {},
     "output_type": "execute_result"
    }
   ],
   "source": [
    "en_yuksek_not = max(sinav_sonuclari.values())\n",
    "en_yuksek_not"
   ]
  },
  {
   "cell_type": "code",
   "execution_count": 39,
   "id": "c972e579",
   "metadata": {},
   "outputs": [
    {
     "data": {
      "text/plain": [
       "60"
      ]
     },
     "execution_count": 39,
     "metadata": {},
     "output_type": "execute_result"
    }
   ],
   "source": [
    "en_dusuk_not = min(sinav_sonuclari.values())\n",
    "en_dusuk_not"
   ]
  },
  {
   "cell_type": "code",
   "execution_count": 40,
   "id": "816a3851",
   "metadata": {},
   "outputs": [
    {
     "name": "stdout",
     "output_type": "stream",
     "text": [
      "En dusuk not alan ogrencinin ismi:Werner Heisenberg / En dusuk not: 60\n",
      "En yuksek not alan ogrencinin ismi:Cahit Arf / En dusuk not: 100\n",
      "En yuksek not alan ogrencinin ismi:Alan Turing / En dusuk not: 100\n"
     ]
    }
   ],
   "source": [
    "for key,value in sinav_sonuclari.items():\n",
    "    if value == en_dusuk_not:\n",
    "        print(f'En dusuk not alan ogrencinin ismi:{key} / En dusuk not: {value}')\n",
    "    elif value ==en_yuksek_not:\n",
    "        print(f'En yuksek not alan ogrencinin ismi:{key} / En dusuk not: {value}')"
   ]
  },
  {
   "cell_type": "code",
   "execution_count": null,
   "id": "5f83a7ed",
   "metadata": {},
   "outputs": [],
   "source": []
  }
 ],
 "metadata": {
  "kernelspec": {
   "display_name": "Python 3 (ipykernel)",
   "language": "python",
   "name": "python3"
  },
  "language_info": {
   "codemirror_mode": {
    "name": "ipython",
    "version": 3
   },
   "file_extension": ".py",
   "mimetype": "text/x-python",
   "name": "python",
   "nbconvert_exporter": "python",
   "pygments_lexer": "ipython3",
   "version": "3.9.7"
  }
 },
 "nbformat": 4,
 "nbformat_minor": 5
}
