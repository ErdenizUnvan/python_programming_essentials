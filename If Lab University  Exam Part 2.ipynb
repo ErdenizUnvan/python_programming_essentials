{
 "cells": [
  {
   "cell_type": "code",
   "execution_count": 30,
   "id": "c3b53480",
   "metadata": {},
   "outputs": [
    {
     "name": "stdout",
     "output_type": "stream",
     "text": [
      "Lutfen ogrenci sinav sonucunu giriniz: 100\n",
      "A\n"
     ]
    }
   ],
   "source": [
    "#Advanced bir ornek\n",
    "#Digit disinda veri girisi yapilmasin\n",
    "\n",
    "#Universitede puan sistemi icin cozum yaratalim\n",
    "#old school\n",
    "#Can egrisi sistemini kullanmayacagiz\n",
    "#100-90: A\n",
    "#89-80: B\n",
    "#79-70: C\n",
    "#69-60: D\n",
    "#59-... F\n",
    "#Basit bir ornek\n",
    "# ogrenci notu > 100 olamaz \n",
    "# ogrenci notu < 0 olamaz\n",
    "\n",
    "sonuc = input('Lutfen ogrenci sinav sonucunu giriniz: ')\n",
    "\n",
    "if not sonuc.isdigit() or  int(sonuc) > 100 or int(sonuc) < 0:\n",
    "    print('Gecersiz veri')\n",
    "    \n",
    "else:\n",
    "    notu = int(sonuc)\n",
    "    if notu >= 90:\n",
    "        print('A')\n",
    "        \n",
    "    elif notu >=80:\n",
    "        print('B')\n",
    "    \n",
    "    elif notu >=70:\n",
    "        print('C')\n",
    "        \n",
    "    elif notu >= 60:\n",
    "        print('D')\n",
    "    \n",
    "    else:\n",
    "        print('F')"
   ]
  },
  {
   "cell_type": "code",
   "execution_count": null,
   "id": "48f7c5a5",
   "metadata": {},
   "outputs": [],
   "source": []
  },
  {
   "cell_type": "code",
   "execution_count": null,
   "id": "f35ea6c4",
   "metadata": {},
   "outputs": [],
   "source": []
  }
 ],
 "metadata": {
  "kernelspec": {
   "display_name": "Python 3 (ipykernel)",
   "language": "python",
   "name": "python3"
  },
  "language_info": {
   "codemirror_mode": {
    "name": "ipython",
    "version": 3
   },
   "file_extension": ".py",
   "mimetype": "text/x-python",
   "name": "python",
   "nbconvert_exporter": "python",
   "pygments_lexer": "ipython3",
   "version": "3.9.7"
  }
 },
 "nbformat": 4,
 "nbformat_minor": 5
}
