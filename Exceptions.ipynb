{
 "cells": [
  {
   "cell_type": "code",
   "execution_count": 1,
   "id": "c1d8ed6b",
   "metadata": {},
   "outputs": [],
   "source": [
    "#Istisnalar:\n",
    "#Code Of Conduct\n",
    "#Daha iyi bir algoritma yaratmak ve uygulamak icin"
   ]
  },
  {
   "cell_type": "code",
   "execution_count": 2,
   "id": "4ceab31d",
   "metadata": {},
   "outputs": [],
   "source": [
    "#Zero Division Error"
   ]
  },
  {
   "cell_type": "code",
   "execution_count": 5,
   "id": "98706031",
   "metadata": {},
   "outputs": [
    {
     "name": "stdout",
     "output_type": "stream",
     "text": [
      "1.Sayiyi yaziniz: 4\n",
      "2.Sayiyi yaziniz: 0\n"
     ]
    },
    {
     "ename": "ZeroDivisionError",
     "evalue": "division by zero",
     "output_type": "error",
     "traceback": [
      "\u001b[1;31m---------------------------------------------------------------------------\u001b[0m",
      "\u001b[1;31mZeroDivisionError\u001b[0m                         Traceback (most recent call last)",
      "\u001b[1;32m~\\AppData\\Local\\Temp/ipykernel_24416/2036507315.py\u001b[0m in \u001b[0;36m<module>\u001b[1;34m\u001b[0m\n\u001b[0;32m      1\u001b[0m \u001b[0mSayi1\u001b[0m \u001b[1;33m=\u001b[0m \u001b[0mint\u001b[0m\u001b[1;33m(\u001b[0m\u001b[0minput\u001b[0m\u001b[1;33m(\u001b[0m\u001b[1;34m'1.Sayiyi yaziniz: '\u001b[0m\u001b[1;33m)\u001b[0m\u001b[1;33m)\u001b[0m\u001b[1;33m\u001b[0m\u001b[1;33m\u001b[0m\u001b[0m\n\u001b[0;32m      2\u001b[0m \u001b[0mSayi2\u001b[0m \u001b[1;33m=\u001b[0m \u001b[0mint\u001b[0m\u001b[1;33m(\u001b[0m\u001b[0minput\u001b[0m\u001b[1;33m(\u001b[0m\u001b[1;34m'2.Sayiyi yaziniz: '\u001b[0m\u001b[1;33m)\u001b[0m\u001b[1;33m)\u001b[0m\u001b[1;33m\u001b[0m\u001b[1;33m\u001b[0m\u001b[0m\n\u001b[1;32m----> 3\u001b[1;33m \u001b[0msonuc\u001b[0m \u001b[1;33m=\u001b[0m \u001b[0mSayi1\u001b[0m\u001b[1;33m/\u001b[0m\u001b[0mSayi2\u001b[0m\u001b[1;33m\u001b[0m\u001b[1;33m\u001b[0m\u001b[0m\n\u001b[0m\u001b[0;32m      4\u001b[0m \u001b[0mprint\u001b[0m\u001b[1;33m(\u001b[0m\u001b[0msonuc\u001b[0m\u001b[1;33m)\u001b[0m\u001b[1;33m\u001b[0m\u001b[1;33m\u001b[0m\u001b[0m\n",
      "\u001b[1;31mZeroDivisionError\u001b[0m: division by zero"
     ]
    }
   ],
   "source": [
    "Sayi1 = int(input('1.Sayiyi yaziniz: '))\n",
    "Sayi2 = int(input('2.Sayiyi yaziniz: '))\n",
    "sonuc = Sayi1/Sayi2\n",
    "print(sonuc)"
   ]
  },
  {
   "cell_type": "code",
   "execution_count": 6,
   "id": "f2a1e374",
   "metadata": {},
   "outputs": [
    {
     "name": "stdout",
     "output_type": "stream",
     "text": [
      "1.Sayiyi yaziniz: 4\n",
      "2.Sayiyi yaziniz: 0\n",
      "Burada istisna var cunku matematikte bir sayi 0\"a bolunemez!\n",
      "2.Sayiyi yaziniz: 0\n",
      "Burada istisna var cunku matematikte bir sayi 0\"a bolunemez!\n",
      "2.Sayiyi yaziniz: 0\n",
      "Burada istisna var cunku matematikte bir sayi 0\"a bolunemez!\n",
      "2.Sayiyi yaziniz: 0\n",
      "Burada istisna var cunku matematikte bir sayi 0\"a bolunemez!\n",
      "2.Sayiyi yaziniz: 2\n",
      "2.0\n"
     ]
    }
   ],
   "source": [
    "#1.yol: Mantiksal Algoritma Yonetimi\n",
    "Sayi1 = int(input('1.Sayiyi yaziniz: '))\n",
    "Sayi2 = int(input('2.Sayiyi yaziniz: '))\n",
    "while Sayi2 == 0:\n",
    "    print('Burada istisna var cunku matematikte bir sayi 0\"a bolunemez!')\n",
    "    Sayi2 = int(input('2.Sayiyi yaziniz: '))\n",
    "sonuc = Sayi1/Sayi2\n",
    "print(sonuc)"
   ]
  },
  {
   "cell_type": "code",
   "execution_count": 8,
   "id": "16b88f84",
   "metadata": {},
   "outputs": [
    {
     "name": "stdout",
     "output_type": "stream",
     "text": [
      "1.Sayiyi yaziniz: 8\n",
      "2.Sayiyi yaziniz: 0\n",
      "Burada istisna var.\n",
      "1.Sayiyi yaziniz: 4\n",
      "2.Sayiyi yaziniz: 0\n",
      "Burada istisna var.\n",
      "1.Sayiyi yaziniz: 4\n",
      "2.Sayiyi yaziniz: 2\n",
      "2.0\n"
     ]
    }
   ],
   "source": [
    "#Exception\n",
    "import sys\n",
    "while True:\n",
    "    try:\n",
    "        Sayi1 = int(input('1.Sayiyi yaziniz: '))\n",
    "        Sayi2 = int(input('2.Sayiyi yaziniz: '))\n",
    "        sonuc = Sayi1/Sayi2\n",
    "    except ZeroDivisionError:\n",
    "        print('Burada istisna var.')\n",
    "    else:\n",
    "        print(sonuc)\n",
    "        break"
   ]
  },
  {
   "cell_type": "code",
   "execution_count": 9,
   "id": "a84c9cfb",
   "metadata": {},
   "outputs": [
    {
     "name": "stdout",
     "output_type": "stream",
     "text": [
      "1.Sayiyi yaziniz: 4\n",
      "2.Sayiyi yaziniz: 0\n",
      "Burada istisna var: division by zero\n",
      "1.Sayiyi yaziniz: 4\n",
      "2.Sayiyi yaziniz: 2\n",
      "2.0\n"
     ]
    }
   ],
   "source": [
    "#Exception\n",
    "import sys\n",
    "while True:\n",
    "    try:\n",
    "        Sayi1 = int(input('1.Sayiyi yaziniz: '))\n",
    "        Sayi2 = int(input('2.Sayiyi yaziniz: '))\n",
    "        sonuc = Sayi1/Sayi2\n",
    "    except Exception as e:\n",
    "        print(f'Burada istisna var: {e}')\n",
    "    else:\n",
    "        print(sonuc)\n",
    "        break"
   ]
  },
  {
   "cell_type": "code",
   "execution_count": 10,
   "id": "507ae932",
   "metadata": {},
   "outputs": [
    {
     "name": "stdout",
     "output_type": "stream",
     "text": [
      "Acmak istediginiz dosyamizin adi nedir: 16012022.txt\n",
      "1,Erdeniz,Hoca\n",
      "2,Erdem,Ogrenci\n",
      "\n"
     ]
    }
   ],
   "source": [
    "#File Exceptionlari\n",
    "file = input('Acmak istediginiz dosyamizin adi nedir: ')\n",
    "f = open(file,'r')\n",
    "print(f.read())\n",
    "f.close()"
   ]
  },
  {
   "cell_type": "code",
   "execution_count": 11,
   "id": "acad0cd9",
   "metadata": {},
   "outputs": [
    {
     "name": "stdout",
     "output_type": "stream",
     "text": [
      "Acmak istediginiz dosyamizin adi nedir: 160120222.txt\n"
     ]
    },
    {
     "ename": "FileNotFoundError",
     "evalue": "[Errno 2] No such file or directory: '160120222.txt'",
     "output_type": "error",
     "traceback": [
      "\u001b[1;31m---------------------------------------------------------------------------\u001b[0m",
      "\u001b[1;31mFileNotFoundError\u001b[0m                         Traceback (most recent call last)",
      "\u001b[1;32m~\\AppData\\Local\\Temp/ipykernel_24416/3504963671.py\u001b[0m in \u001b[0;36m<module>\u001b[1;34m\u001b[0m\n\u001b[0;32m      1\u001b[0m \u001b[1;31m#File Exceptionlari\u001b[0m\u001b[1;33m\u001b[0m\u001b[1;33m\u001b[0m\u001b[0m\n\u001b[0;32m      2\u001b[0m \u001b[0mfile\u001b[0m \u001b[1;33m=\u001b[0m \u001b[0minput\u001b[0m\u001b[1;33m(\u001b[0m\u001b[1;34m'Acmak istediginiz dosyamizin adi nedir: '\u001b[0m\u001b[1;33m)\u001b[0m\u001b[1;33m\u001b[0m\u001b[1;33m\u001b[0m\u001b[0m\n\u001b[1;32m----> 3\u001b[1;33m \u001b[0mf\u001b[0m \u001b[1;33m=\u001b[0m \u001b[0mopen\u001b[0m\u001b[1;33m(\u001b[0m\u001b[0mfile\u001b[0m\u001b[1;33m,\u001b[0m\u001b[1;34m'r'\u001b[0m\u001b[1;33m)\u001b[0m\u001b[1;33m\u001b[0m\u001b[1;33m\u001b[0m\u001b[0m\n\u001b[0m\u001b[0;32m      4\u001b[0m \u001b[0mprint\u001b[0m\u001b[1;33m(\u001b[0m\u001b[0mf\u001b[0m\u001b[1;33m.\u001b[0m\u001b[0mread\u001b[0m\u001b[1;33m(\u001b[0m\u001b[1;33m)\u001b[0m\u001b[1;33m)\u001b[0m\u001b[1;33m\u001b[0m\u001b[1;33m\u001b[0m\u001b[0m\n\u001b[0;32m      5\u001b[0m \u001b[0mf\u001b[0m\u001b[1;33m.\u001b[0m\u001b[0mclose\u001b[0m\u001b[1;33m(\u001b[0m\u001b[1;33m)\u001b[0m\u001b[1;33m\u001b[0m\u001b[1;33m\u001b[0m\u001b[0m\n",
      "\u001b[1;31mFileNotFoundError\u001b[0m: [Errno 2] No such file or directory: '160120222.txt'"
     ]
    }
   ],
   "source": [
    "#File Exceptionlari\n",
    "file = input('Acmak istediginiz dosyamizin adi nedir: ')\n",
    "f = open(file,'r')\n",
    "print(f.read())\n",
    "f.close()"
   ]
  },
  {
   "cell_type": "code",
   "execution_count": 12,
   "id": "99d01ebd",
   "metadata": {},
   "outputs": [],
   "source": [
    "#FileNotFoundError"
   ]
  },
  {
   "cell_type": "code",
   "execution_count": 13,
   "id": "2cc9f2d2",
   "metadata": {},
   "outputs": [
    {
     "name": "stdout",
     "output_type": "stream",
     "text": [
      "Acmak istediginiz dosyamizin adi nedir: 16012022.txt\n",
      "1,Erdeniz,Hoca\n",
      "2,Erdem,Ogrenci\n",
      "\n"
     ]
    }
   ],
   "source": [
    "#Mantiksal Algoritma Yontemi\n",
    "import os\n",
    "file = input('Acmak istediginiz dosyamizin adi nedir: ')\n",
    "if file in os.listdir():\n",
    "    f = open(file,'r')\n",
    "    print(f.read())\n",
    "    f.close()\n",
    "elif file in os.listdir():\n",
    "    print('Boyle bir dosya yok!')"
   ]
  },
  {
   "cell_type": "code",
   "execution_count": 14,
   "id": "d9e607c9",
   "metadata": {},
   "outputs": [
    {
     "name": "stdout",
     "output_type": "stream",
     "text": [
      "Acmak istediginiz dosyamizin adi nedir: 160120222.txt\n"
     ]
    }
   ],
   "source": [
    "#Mantiksal Algoritma Yontemi\n",
    "import os\n",
    "file = input('Acmak istediginiz dosyamizin adi nedir: ')\n",
    "if file in os.listdir():\n",
    "    f = open(file,'r')\n",
    "    print(f.read())\n",
    "    f.close()\n",
    "elif file in os.listdir():\n",
    "    print('Boyle bir dosya yok!')"
   ]
  },
  {
   "cell_type": "code",
   "execution_count": 15,
   "id": "e14c7d9f",
   "metadata": {},
   "outputs": [
    {
     "name": "stdout",
     "output_type": "stream",
     "text": [
      "Acmak istediginiz dosyamizin adi nedir: 16012022.txt\n",
      "1,Erdeniz,Hoca\n",
      "2,Erdem,Ogrenci\n",
      "\n"
     ]
    }
   ],
   "source": [
    "#Exception\n",
    "import sys\n",
    "while True:\n",
    "    try:\n",
    "        file = input('Acmak istediginiz dosyamizin adi nedir: ')\n",
    "        f = open(file,'r')\n",
    "    except FileNotFoundError:\n",
    "        print(f'Burada istisna var!')\n",
    "    else:\n",
    "        print(f.read())\n",
    "        f.close()\n",
    "        break"
   ]
  },
  {
   "cell_type": "code",
   "execution_count": 16,
   "id": "bfe34657",
   "metadata": {},
   "outputs": [
    {
     "name": "stdout",
     "output_type": "stream",
     "text": [
      "Acmak istediginiz dosyamizin adi nedir: 160120222.txt\n",
      "Burada istisna var!\n",
      "Acmak istediginiz dosyamizin adi nedir: 16012022.txt\n",
      "1,Erdeniz,Hoca\n",
      "2,Erdem,Ogrenci\n",
      "\n"
     ]
    }
   ],
   "source": [
    "#Exception\n",
    "import sys\n",
    "while True:\n",
    "    try:\n",
    "        file = input('Acmak istediginiz dosyamizin adi nedir: ')\n",
    "        f = open(file,'r')\n",
    "    except FileNotFoundError:\n",
    "        print(f'Burada istisna var!')\n",
    "    else:\n",
    "        print(f.read())\n",
    "        f.close()\n",
    "        break"
   ]
  },
  {
   "cell_type": "code",
   "execution_count": 17,
   "id": "adac20d8",
   "metadata": {},
   "outputs": [
    {
     "name": "stdout",
     "output_type": "stream",
     "text": [
      "Acmak istediginiz dosyamizin adi nedir: 160120222222.txt\n",
      "Burada istisna var: [Errno 2] No such file or directory: '160120222222.txt'\n",
      "Acmak istediginiz dosyamizin adi nedir: 16012022.txt\n",
      "1,Erdeniz,Hoca\n",
      "2,Erdem,Ogrenci\n",
      "\n"
     ]
    }
   ],
   "source": [
    "#Exception\n",
    "import sys\n",
    "while True:\n",
    "    try:\n",
    "        file = input('Acmak istediginiz dosyamizin adi nedir: ')\n",
    "        f = open(file,'r')\n",
    "    except Exception as e:\n",
    "        print(f'Burada istisna var: {e}')\n",
    "    else:\n",
    "        print(f.read())\n",
    "        f.close()\n",
    "        break"
   ]
  },
  {
   "cell_type": "code",
   "execution_count": 19,
   "id": "4eb29770",
   "metadata": {},
   "outputs": [
    {
     "name": "stdout",
     "output_type": "stream",
     "text": [
      "Bir sayi yaziniz ama 42 olmasin: 41\n",
      "41\n"
     ]
    }
   ],
   "source": [
    "#Raise\n",
    "sayi = int(input('Bir sayi yaziniz ama 42 olmasin: '))\n",
    "if sayi == 42:\n",
    "    raise ValueError\n",
    "else:\n",
    "    print(sayi)"
   ]
  },
  {
   "cell_type": "code",
   "execution_count": 20,
   "id": "dc66dc7e",
   "metadata": {},
   "outputs": [
    {
     "name": "stdout",
     "output_type": "stream",
     "text": [
      "Bir sayi yaziniz ama 42 olmasin: 42\n"
     ]
    },
    {
     "ename": "ValueError",
     "evalue": "",
     "output_type": "error",
     "traceback": [
      "\u001b[1;31m---------------------------------------------------------------------------\u001b[0m",
      "\u001b[1;31mValueError\u001b[0m                                Traceback (most recent call last)",
      "\u001b[1;32m~\\AppData\\Local\\Temp/ipykernel_24416/582012296.py\u001b[0m in \u001b[0;36m<module>\u001b[1;34m\u001b[0m\n\u001b[0;32m      2\u001b[0m \u001b[0msayi\u001b[0m \u001b[1;33m=\u001b[0m \u001b[0mint\u001b[0m\u001b[1;33m(\u001b[0m\u001b[0minput\u001b[0m\u001b[1;33m(\u001b[0m\u001b[1;34m'Bir sayi yaziniz ama 42 olmasin: '\u001b[0m\u001b[1;33m)\u001b[0m\u001b[1;33m)\u001b[0m\u001b[1;33m\u001b[0m\u001b[1;33m\u001b[0m\u001b[0m\n\u001b[0;32m      3\u001b[0m \u001b[1;32mif\u001b[0m \u001b[0msayi\u001b[0m \u001b[1;33m==\u001b[0m \u001b[1;36m42\u001b[0m\u001b[1;33m:\u001b[0m\u001b[1;33m\u001b[0m\u001b[1;33m\u001b[0m\u001b[0m\n\u001b[1;32m----> 4\u001b[1;33m     \u001b[1;32mraise\u001b[0m \u001b[0mValueError\u001b[0m\u001b[1;33m\u001b[0m\u001b[1;33m\u001b[0m\u001b[0m\n\u001b[0m\u001b[0;32m      5\u001b[0m \u001b[1;32melse\u001b[0m\u001b[1;33m:\u001b[0m\u001b[1;33m\u001b[0m\u001b[1;33m\u001b[0m\u001b[0m\n\u001b[0;32m      6\u001b[0m     \u001b[0mprint\u001b[0m\u001b[1;33m(\u001b[0m\u001b[0msayi\u001b[0m\u001b[1;33m)\u001b[0m\u001b[1;33m\u001b[0m\u001b[1;33m\u001b[0m\u001b[0m\n",
      "\u001b[1;31mValueError\u001b[0m: "
     ]
    }
   ],
   "source": [
    "#Raise\n",
    "sayi = int(input('Bir sayi yaziniz ama 42 olmasin: '))\n",
    "if sayi == 42:\n",
    "    raise ValueError\n",
    "else:\n",
    "    print(sayi)"
   ]
  },
  {
   "cell_type": "code",
   "execution_count": 21,
   "id": "0f42b135",
   "metadata": {},
   "outputs": [
    {
     "name": "stdout",
     "output_type": "stream",
     "text": [
      "1.sayiyi yaz: 4\n",
      "2.sayiyi yaz: 0\n",
      "Bu durumda bir istisna var: division by zero\n",
      "Bu da bir finally printidir!\n"
     ]
    }
   ],
   "source": [
    "#Finally\n",
    "try:\n",
    "    sayi1 =int(input('1.sayiyi yaz: '))\n",
    "    sayi2 =int(input('2.sayiyi yaz: '))\n",
    "    sonuc = sayi1/sayi2\n",
    "    print(sonuc)\n",
    "except Exception as e:\n",
    "    print(f'Bu durumda bir istisna var: {e}')\n",
    "else:\n",
    "    print('Bu durumda ise herhangi bir istisna yok!')\n",
    "finally:\n",
    "    print('Bu da bir finally printidir!')"
   ]
  },
  {
   "cell_type": "code",
   "execution_count": 22,
   "id": "fd9e6e44",
   "metadata": {},
   "outputs": [
    {
     "name": "stdout",
     "output_type": "stream",
     "text": [
      "1.sayiyi yaz: 4\n",
      "2.sayiyi yaz: 2\n",
      "2.0\n",
      "Bu durumda ise herhangi bir istisna yok!\n",
      "Bu da bir finally printidir!\n"
     ]
    }
   ],
   "source": [
    "#Finally\n",
    "try:\n",
    "    sayi1 =int(input('1.sayiyi yaz: '))\n",
    "    sayi2 =int(input('2.sayiyi yaz: '))\n",
    "    sonuc = sayi1/sayi2\n",
    "    print(sonuc)\n",
    "except Exception as e:\n",
    "    print(f'Bu durumda bir istisna var: {e}')\n",
    "else:\n",
    "    print('Bu durumda ise herhangi bir istisna yok!')\n",
    "finally:\n",
    "    print('Bu da bir finally printidir!')"
   ]
  },
  {
   "cell_type": "code",
   "execution_count": null,
   "id": "e42e9d21",
   "metadata": {},
   "outputs": [],
   "source": []
  }
 ],
 "metadata": {
  "kernelspec": {
   "display_name": "Python 3 (ipykernel)",
   "language": "python",
   "name": "python3"
  },
  "language_info": {
   "codemirror_mode": {
    "name": "ipython",
    "version": 3
   },
   "file_extension": ".py",
   "mimetype": "text/x-python",
   "name": "python",
   "nbconvert_exporter": "python",
   "pygments_lexer": "ipython3",
   "version": "3.9.7"
  }
 },
 "nbformat": 4,
 "nbformat_minor": 5
}
