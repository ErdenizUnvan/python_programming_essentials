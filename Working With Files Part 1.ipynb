{
 "cells": [
  {
   "cell_type": "code",
   "execution_count": 1,
   "id": "81f509d4",
   "metadata": {},
   "outputs": [],
   "source": [
    "#txt,text,json,xls,xlsx,csv,yaml,xml...\n",
    "#txt"
   ]
  },
  {
   "cell_type": "code",
   "execution_count": 2,
   "id": "90c95f0e",
   "metadata": {},
   "outputs": [
    {
     "name": "stdout",
     "output_type": "stream",
     "text": [
      "Lutfen dosya adini yaziniz: 16012022.txt\n",
      "Calisanin ID\"sini yazin: 1\n",
      "Calisanin ismini yazin: Erdeniz\n",
      "Calisanin deparmanini yazin: Hoca\n"
     ]
    }
   ],
   "source": [
    "#open\n",
    "#w write\n",
    "#r read\n",
    "#x\n",
    "#a, append\n",
    "file = input('Lutfen dosya adini yaziniz: ')\n",
    "f = open(file,'w') # write\n",
    "#insan kaynaklari txt olusturalim\n",
    "#sirket adi\n",
    "#id,ismi,departmani\n",
    "ID = input('Calisanin ID\"sini yazin: ')\n",
    "isim =input('Calisanin ismini yazin: ')\n",
    "departman = input('Calisanin deparmanini yazin: ')\n",
    "f.write(ID+','+isim+','+departman+'\\n')\n",
    "f.close()"
   ]
  },
  {
   "cell_type": "code",
   "execution_count": 3,
   "id": "cf50c596",
   "metadata": {},
   "outputs": [
    {
     "name": "stdout",
     "output_type": "stream",
     "text": [
      "Lutfen dosya adini yaziniz: 16012022.txt\n",
      "1,Erdeniz,Hoca\n",
      "\n"
     ]
    }
   ],
   "source": [
    "file = input('Lutfen dosya adini yaziniz: ')\n",
    "f = open(file,'r') #read\n",
    "print(f.read())\n",
    "f.close()"
   ]
  },
  {
   "cell_type": "code",
   "execution_count": 5,
   "id": "ffa94a28",
   "metadata": {},
   "outputs": [
    {
     "name": "stdout",
     "output_type": "stream",
     "text": [
      "Lutfen dosya adini yaziniz: 16012022.txt\n",
      "Calisanin ID\"sini yazin: 2\n",
      "Calisanin ismini yazin: Erdem\n",
      "Calisanin deparmanini yazin: Ogrenci\n"
     ]
    }
   ],
   "source": [
    "#Erdem\n",
    "file = input('Lutfen dosya adini yaziniz: ')\n",
    "f = open(file,'w') # write\n",
    "#insan kaynaklari txt olusturalim\n",
    "#sirket adi\n",
    "#id,ismi,departmani\n",
    "ID = input('Calisanin ID\"sini yazin: ')\n",
    "isim =input('Calisanin ismini yazin: ')\n",
    "departman = input('Calisanin deparmanini yazin: ')\n",
    "f.write(ID+','+isim+','+departman+'\\n')\n",
    "f.close()"
   ]
  },
  {
   "cell_type": "code",
   "execution_count": 6,
   "id": "2d6338ea",
   "metadata": {},
   "outputs": [
    {
     "name": "stdout",
     "output_type": "stream",
     "text": [
      "Lutfen dosya adini yaziniz: 16012022.txt\n",
      "2,Erdem,Ogrenci\n",
      "\n"
     ]
    }
   ],
   "source": [
    "file = input('Lutfen dosya adini yaziniz: ')\n",
    "f = open(file,'r') #read\n",
    "print(f.read())\n",
    "f.close()"
   ]
  },
  {
   "cell_type": "code",
   "execution_count": 7,
   "id": "42761aa0",
   "metadata": {},
   "outputs": [
    {
     "name": "stdout",
     "output_type": "stream",
     "text": [
      "Lutfen dosya adini yaziniz: 16012022.txt\n",
      "Calisanin ID\"sini yazin: 1\n",
      "Calisanin ismini yazin: Erdeniz\n",
      "Calisanin deparmanini yazin: Hoca\n"
     ]
    }
   ],
   "source": [
    "file = input('Lutfen dosya adini yaziniz: ')\n",
    "f = open(file,'w') # write\n",
    "#insan kaynaklari txt olusturalim\n",
    "#sirket adi\n",
    "#id,ismi,departmani\n",
    "ID = input('Calisanin ID\"sini yazin: ')\n",
    "isim =input('Calisanin ismini yazin: ')\n",
    "departman = input('Calisanin deparmanini yazin: ')\n",
    "f.write(ID+','+isim+','+departman+'\\n')\n",
    "f.close()"
   ]
  },
  {
   "cell_type": "code",
   "execution_count": 8,
   "id": "53e6ca1d",
   "metadata": {},
   "outputs": [
    {
     "name": "stdout",
     "output_type": "stream",
     "text": [
      "Lutfen dosya adini yaziniz: 16012022.txt\n",
      "1,Erdeniz,Hoca\n",
      "\n"
     ]
    }
   ],
   "source": [
    "file = input('Lutfen dosya adini yaziniz: ')\n",
    "f = open(file,'r') #read\n",
    "print(f.read())\n",
    "f.close()"
   ]
  },
  {
   "cell_type": "code",
   "execution_count": 9,
   "id": "6a6dc7a4",
   "metadata": {},
   "outputs": [
    {
     "name": "stdout",
     "output_type": "stream",
     "text": [
      "Lutfen dosya adini yaziniz: 16012022.txt\n",
      "Calisanin ID\"sini yazin: 2\n",
      "Calisanin ismini yazin: Erdem\n",
      "Calisanin deparmanini yazin: Ogrenci\n"
     ]
    }
   ],
   "source": [
    "file = input('Lutfen dosya adini yaziniz: ')\n",
    "f = open(file,'a') # append\n",
    "#insan kaynaklari txt olusturalim\n",
    "#sirket adi\n",
    "#id,ismi,departmani\n",
    "ID = input('Calisanin ID\"sini yazin: ')\n",
    "isim =input('Calisanin ismini yazin: ')\n",
    "departman = input('Calisanin deparmanini yazin: ')\n",
    "f.write(ID+','+isim+','+departman+'\\n')\n",
    "f.close()"
   ]
  },
  {
   "cell_type": "code",
   "execution_count": 10,
   "id": "b3b74031",
   "metadata": {},
   "outputs": [
    {
     "name": "stdout",
     "output_type": "stream",
     "text": [
      "Lutfen dosya adini yaziniz: 16012022.txt\n",
      "1,Erdeniz,Hoca\n",
      "2,Erdem,Ogrenci\n",
      "\n"
     ]
    }
   ],
   "source": [
    "file = input('Lutfen dosya adini yaziniz: ')\n",
    "f = open(file,'r') #read\n",
    "print(f.read())\n",
    "f.close()"
   ]
  },
  {
   "cell_type": "code",
   "execution_count": null,
   "id": "ababca60",
   "metadata": {},
   "outputs": [],
   "source": []
  }
 ],
 "metadata": {
  "kernelspec": {
   "display_name": "Python 3 (ipykernel)",
   "language": "python",
   "name": "python3"
  },
  "language_info": {
   "codemirror_mode": {
    "name": "ipython",
    "version": 3
   },
   "file_extension": ".py",
   "mimetype": "text/x-python",
   "name": "python",
   "nbconvert_exporter": "python",
   "pygments_lexer": "ipython3",
   "version": "3.9.7"
  }
 },
 "nbformat": 4,
 "nbformat_minor": 5
}
