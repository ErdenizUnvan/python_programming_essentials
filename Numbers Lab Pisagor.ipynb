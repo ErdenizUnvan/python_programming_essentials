{
 "cells": [
  {
   "cell_type": "code",
   "execution_count": 1,
   "id": "901c01c9",
   "metadata": {},
   "outputs": [
    {
     "name": "stdout",
     "output_type": "stream",
     "text": [
      "1.Kenari yaziniz: 3\n"
     ]
    },
    {
     "data": {
      "text/plain": [
       "str"
      ]
     },
     "execution_count": 1,
     "metadata": {},
     "output_type": "execute_result"
    }
   ],
   "source": [
    "#Pisagor \n",
    "#c2 = a**2  + b**2\n",
    "kenar1 = input('1.Kenari yaziniz: ')\n",
    "type(kenar1)"
   ]
  },
  {
   "cell_type": "code",
   "execution_count": 2,
   "id": "41393f3b",
   "metadata": {},
   "outputs": [
    {
     "data": {
      "text/plain": [
       "'3'"
      ]
     },
     "execution_count": 2,
     "metadata": {},
     "output_type": "execute_result"
    }
   ],
   "source": [
    "kenar1"
   ]
  },
  {
   "cell_type": "code",
   "execution_count": 3,
   "id": "55239b8c",
   "metadata": {},
   "outputs": [
    {
     "name": "stdout",
     "output_type": "stream",
     "text": [
      "1.Kenari yaziniz: 3\n"
     ]
    },
    {
     "data": {
      "text/plain": [
       "int"
      ]
     },
     "execution_count": 3,
     "metadata": {},
     "output_type": "execute_result"
    }
   ],
   "source": [
    "kenar1 = int(input('1.Kenari yaziniz: '))\n",
    "type(kenar1)"
   ]
  },
  {
   "cell_type": "code",
   "execution_count": 4,
   "id": "63b6303b",
   "metadata": {},
   "outputs": [
    {
     "data": {
      "text/plain": [
       "3"
      ]
     },
     "execution_count": 4,
     "metadata": {},
     "output_type": "execute_result"
    }
   ],
   "source": [
    "kenar1"
   ]
  },
  {
   "cell_type": "code",
   "execution_count": 7,
   "id": "9696f500",
   "metadata": {},
   "outputs": [
    {
     "name": "stdout",
     "output_type": "stream",
     "text": [
      "1.Kenari yaziniz: 9\n",
      "2.Kenari yaziniz: 16\n",
      "Kenar1 : 9 / Kenar2: 16  / Hypo: 18.35755975068582\n",
      "Kenar1: 9 / Kenar2: 16 / Hypo :18\n"
     ]
    }
   ],
   "source": [
    "import math\n",
    "kenar1 = int(input('1.Kenari yaziniz: '))\n",
    "kenar2 = int(input('2.Kenari yaziniz: '))\n",
    "Hypo = math.sqrt(kenar1**2 +kenar2**2)\n",
    "print('Kenar1 :',kenar1,'/ Kenar2:',kenar2,' / Hypo:',Hypo)\n",
    "print(f'Kenar1: {kenar1} / Kenar2: {kenar2} / Hypo :{int(Hypo)}')"
   ]
  },
  {
   "cell_type": "code",
   "execution_count": null,
   "id": "f0e78991",
   "metadata": {},
   "outputs": [],
   "source": []
  }
 ],
 "metadata": {
  "kernelspec": {
   "display_name": "Python 3 (ipykernel)",
   "language": "python",
   "name": "python3"
  },
  "language_info": {
   "codemirror_mode": {
    "name": "ipython",
    "version": 3
   },
   "file_extension": ".py",
   "mimetype": "text/x-python",
   "name": "python",
   "nbconvert_exporter": "python",
   "pygments_lexer": "ipython3",
   "version": "3.9.7"
  }
 },
 "nbformat": 4,
 "nbformat_minor": 5
}
