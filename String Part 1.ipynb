{
 "cells": [
  {
   "cell_type": "code",
   "execution_count": null,
   "id": "fc9ceec2",
   "metadata": {},
   "outputs": [],
   "source": [
    "#1-100\n",
    "#1+2+3...+99+100\n",
    "#prosedurel\n",
    "\n",
    "#fonksiyonel\n",
    "#n=n+1\n",
    "#n+=1\n",
    "\n",
    "#n=n-1\n",
    "#n-=1\n",
    "\n",
    "#n=1\n",
    "#n+(n+1)+(n+2).....(n+X)\n",
    "\n",
    "#Object Oriented Programming\n",
    "#Nesne Odakli Programlama\n",
    "#GPL"
   ]
  },
  {
   "cell_type": "code",
   "execution_count": null,
   "id": "fd6669ee",
   "metadata": {},
   "outputs": [],
   "source": [
    "#stringler\n",
    "#metinler\n",
    "#alfabetik, rakam, bosluk, sembol #"
   ]
  },
  {
   "cell_type": "code",
   "execution_count": null,
   "id": "bd6da510",
   "metadata": {},
   "outputs": [],
   "source": [
    "isim=input('Isim: ')\n",
    "soyisim=input('Soyisim: ')\n",
    "yas=input('Yas: ')\n",
    "meslek=input('Mesleginiz: ')"
   ]
  },
  {
   "cell_type": "code",
   "execution_count": null,
   "id": "f1edb29c",
   "metadata": {},
   "outputs": [],
   "source": [
    "bosluk=' '"
   ]
  },
  {
   "cell_type": "code",
   "execution_count": null,
   "id": "74b0c0f2",
   "metadata": {},
   "outputs": [],
   "source": [
    "hoca=isim+bosluk+soyisim+yas+meslek\n",
    "hoca"
   ]
  },
  {
   "cell_type": "code",
   "execution_count": null,
   "id": "dd29d25f",
   "metadata": {},
   "outputs": [],
   "source": [
    "type(hoca)"
   ]
  },
  {
   "cell_type": "code",
   "execution_count": null,
   "id": "c89b8829",
   "metadata": {},
   "outputs": [],
   "source": [
    "print(type(hoca))"
   ]
  },
  {
   "cell_type": "code",
   "execution_count": null,
   "id": "159f75cd",
   "metadata": {},
   "outputs": [],
   "source": [
    "import string"
   ]
  },
  {
   "cell_type": "code",
   "execution_count": null,
   "id": "83ed5530",
   "metadata": {},
   "outputs": [],
   "source": [
    "#json: javascript object notation"
   ]
  },
  {
   "cell_type": "code",
   "execution_count": null,
   "id": "b2850232",
   "metadata": {},
   "outputs": [],
   "source": [
    "#ascii"
   ]
  },
  {
   "cell_type": "code",
   "execution_count": null,
   "id": "ec7d77ba",
   "metadata": {},
   "outputs": [],
   "source": [
    "string.ascii_lowercase"
   ]
  },
  {
   "cell_type": "code",
   "execution_count": null,
   "id": "a8c78df1",
   "metadata": {},
   "outputs": [],
   "source": [
    "string.ascii_uppercase"
   ]
  },
  {
   "cell_type": "code",
   "execution_count": null,
   "id": "1961dcff",
   "metadata": {},
   "outputs": [],
   "source": [
    "string.ascii_letters"
   ]
  },
  {
   "cell_type": "code",
   "execution_count": null,
   "id": "d6bda5b6",
   "metadata": {},
   "outputs": [],
   "source": [
    "string.printable"
   ]
  },
  {
   "cell_type": "code",
   "execution_count": null,
   "id": "da49de03",
   "metadata": {},
   "outputs": [],
   "source": [
    "string.hexdigits"
   ]
  },
  {
   "cell_type": "code",
   "execution_count": null,
   "id": "0c03eddc",
   "metadata": {},
   "outputs": [],
   "source": [
    "type(isim)"
   ]
  },
  {
   "cell_type": "code",
   "execution_count": null,
   "id": "5b2951e8",
   "metadata": {},
   "outputs": [],
   "source": [
    "isim"
   ]
  },
  {
   "cell_type": "code",
   "execution_count": null,
   "id": "b6a5bc63",
   "metadata": {},
   "outputs": [],
   "source": [
    "isim.isalpha()\n",
    "#alfabetik string midir?"
   ]
  },
  {
   "cell_type": "code",
   "execution_count": null,
   "id": "da46e1d1",
   "metadata": {},
   "outputs": [],
   "source": [
    "soyisim.isalpha()"
   ]
  },
  {
   "cell_type": "code",
   "execution_count": null,
   "id": "d943bae3",
   "metadata": {},
   "outputs": [],
   "source": [
    "yas"
   ]
  },
  {
   "cell_type": "code",
   "execution_count": null,
   "id": "1fffe7ad",
   "metadata": {},
   "outputs": [],
   "source": [
    "yas.isalpha()"
   ]
  },
  {
   "cell_type": "code",
   "execution_count": null,
   "id": "1345af1c",
   "metadata": {},
   "outputs": [],
   "source": [
    "yas.isdigit()\n",
    "#yas referansinin degiskeni digit olarak string midir degil midir?"
   ]
  },
  {
   "cell_type": "code",
   "execution_count": null,
   "id": "f5389671",
   "metadata": {},
   "outputs": [],
   "source": [
    "hoca"
   ]
  },
  {
   "cell_type": "code",
   "execution_count": null,
   "id": "b49c2e5e",
   "metadata": {},
   "outputs": [],
   "source": [
    "bosluk"
   ]
  },
  {
   "cell_type": "code",
   "execution_count": null,
   "id": "6b828279",
   "metadata": {},
   "outputs": [],
   "source": [
    "type(bosluk)"
   ]
  },
  {
   "cell_type": "code",
   "execution_count": null,
   "id": "9c5118b1",
   "metadata": {},
   "outputs": [],
   "source": [
    "bosluk.isspace()"
   ]
  },
  {
   "cell_type": "code",
   "execution_count": null,
   "id": "9cfabbc2",
   "metadata": {},
   "outputs": [],
   "source": [
    "hoca"
   ]
  },
  {
   "cell_type": "code",
   "execution_count": null,
   "id": "26709514",
   "metadata": {},
   "outputs": [],
   "source": [
    "hoca.isalpha()"
   ]
  },
  {
   "cell_type": "code",
   "execution_count": null,
   "id": "d973706c",
   "metadata": {},
   "outputs": [],
   "source": [
    "mesaj='Cekoslavakyalastiramadiklarimizdanmisiniz'\n",
    "mesaj.isalpha()"
   ]
  },
  {
   "cell_type": "code",
   "execution_count": null,
   "id": "59c6a70a",
   "metadata": {},
   "outputs": [],
   "source": [
    "mesaj1='Cekoslavakyalastiramadiklarimizdan misiniz?'\n",
    "mesaj1.isalpha()"
   ]
  },
  {
   "cell_type": "code",
   "execution_count": null,
   "id": "4ea506fe",
   "metadata": {},
   "outputs": [],
   "source": [
    "yas"
   ]
  },
  {
   "cell_type": "code",
   "execution_count": null,
   "id": "eb141a88",
   "metadata": {},
   "outputs": [],
   "source": [
    "yas1= int(yas)\n",
    "yas1"
   ]
  },
  {
   "cell_type": "code",
   "execution_count": null,
   "id": "f159b732",
   "metadata": {},
   "outputs": [],
   "source": [
    "type(yas1)"
   ]
  },
  {
   "cell_type": "code",
   "execution_count": null,
   "id": "3da80785",
   "metadata": {},
   "outputs": [],
   "source": [
    "yas1.isdigit()"
   ]
  },
  {
   "cell_type": "code",
   "execution_count": null,
   "id": "94fb5192",
   "metadata": {},
   "outputs": [],
   "source": [
    "pwd"
   ]
  },
  {
   "cell_type": "code",
   "execution_count": null,
   "id": "24cb3303",
   "metadata": {},
   "outputs": [],
   "source": []
  },
  {
   "cell_type": "code",
   "execution_count": null,
   "id": "f6dca637",
   "metadata": {},
   "outputs": [],
   "source": []
  },
  {
   "cell_type": "code",
   "execution_count": null,
   "id": "f80e15e3",
   "metadata": {},
   "outputs": [],
   "source": []
  },
  {
   "cell_type": "code",
   "execution_count": null,
   "id": "756b6026",
   "metadata": {},
   "outputs": [],
   "source": []
  },
  {
   "cell_type": "code",
   "execution_count": null,
   "id": "b74323de",
   "metadata": {},
   "outputs": [],
   "source": []
  },
  {
   "cell_type": "code",
   "execution_count": null,
   "id": "257ddacb",
   "metadata": {},
   "outputs": [],
   "source": []
  },
  {
   "cell_type": "code",
   "execution_count": null,
   "id": "172717e1",
   "metadata": {},
   "outputs": [],
   "source": []
  },
  {
   "cell_type": "code",
   "execution_count": null,
   "id": "d0edd152",
   "metadata": {},
   "outputs": [],
   "source": []
  },
  {
   "cell_type": "code",
   "execution_count": null,
   "id": "81ea4b96",
   "metadata": {},
   "outputs": [],
   "source": []
  },
  {
   "cell_type": "code",
   "execution_count": null,
   "id": "29b55045",
   "metadata": {},
   "outputs": [],
   "source": []
  },
  {
   "cell_type": "code",
   "execution_count": null,
   "id": "f62e92c9",
   "metadata": {},
   "outputs": [],
   "source": []
  },
  {
   "cell_type": "code",
   "execution_count": null,
   "id": "456c0846",
   "metadata": {},
   "outputs": [],
   "source": []
  },
  {
   "cell_type": "code",
   "execution_count": null,
   "id": "f544924b",
   "metadata": {},
   "outputs": [],
   "source": []
  },
  {
   "cell_type": "code",
   "execution_count": null,
   "id": "31bbeefd",
   "metadata": {},
   "outputs": [],
   "source": []
  },
  {
   "cell_type": "code",
   "execution_count": null,
   "id": "25cac394",
   "metadata": {},
   "outputs": [],
   "source": []
  },
  {
   "cell_type": "code",
   "execution_count": null,
   "id": "b72ca063",
   "metadata": {},
   "outputs": [],
   "source": []
  },
  {
   "cell_type": "code",
   "execution_count": null,
   "id": "91973f3d",
   "metadata": {},
   "outputs": [],
   "source": []
  },
  {
   "cell_type": "code",
   "execution_count": null,
   "id": "92bedfec",
   "metadata": {},
   "outputs": [],
   "source": []
  },
  {
   "cell_type": "code",
   "execution_count": null,
   "id": "ed37aa9f",
   "metadata": {},
   "outputs": [],
   "source": []
  },
  {
   "cell_type": "code",
   "execution_count": null,
   "id": "13ed3fd8",
   "metadata": {},
   "outputs": [],
   "source": []
  },
  {
   "cell_type": "code",
   "execution_count": null,
   "id": "f58f5da5",
   "metadata": {},
   "outputs": [],
   "source": []
  },
  {
   "cell_type": "code",
   "execution_count": null,
   "id": "2d877859",
   "metadata": {},
   "outputs": [],
   "source": []
  },
  {
   "cell_type": "code",
   "execution_count": null,
   "id": "ba175f86",
   "metadata": {},
   "outputs": [],
   "source": []
  },
  {
   "cell_type": "code",
   "execution_count": null,
   "id": "1edc17ee",
   "metadata": {},
   "outputs": [],
   "source": []
  },
  {
   "cell_type": "code",
   "execution_count": null,
   "id": "abe5c542",
   "metadata": {},
   "outputs": [],
   "source": []
  },
  {
   "cell_type": "code",
   "execution_count": null,
   "id": "fa345374",
   "metadata": {},
   "outputs": [],
   "source": []
  }
 ],
 "metadata": {
  "kernelspec": {
   "display_name": "Python 3 (ipykernel)",
   "language": "python",
   "name": "python3"
  },
  "language_info": {
   "codemirror_mode": {
    "name": "ipython",
    "version": 3
   },
   "file_extension": ".py",
   "mimetype": "text/x-python",
   "name": "python",
   "nbconvert_exporter": "python",
   "pygments_lexer": "ipython3",
   "version": "3.9.7"
  }
 },
 "nbformat": 4,
 "nbformat_minor": 5
}
