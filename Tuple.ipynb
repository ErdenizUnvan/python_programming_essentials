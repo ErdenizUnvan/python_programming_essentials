{
 "cells": [
  {
   "cell_type": "code",
   "execution_count": null,
   "id": "1b66d280",
   "metadata": {},
   "outputs": [],
   "source": [
    "#tuple: read only list\n",
    "#sadece okunabilir, degistirilemez veri dizinleridir\n",
    "#( ile baslar ) ile biter"
   ]
  },
  {
   "cell_type": "code",
   "execution_count": 1,
   "id": "334c2758",
   "metadata": {},
   "outputs": [
    {
     "data": {
      "text/plain": [
       "list"
      ]
     },
     "execution_count": 1,
     "metadata": {},
     "output_type": "execute_result"
    }
   ],
   "source": [
    "banka=['TL','Euro','Dolar']\n",
    "type(banka)"
   ]
  },
  {
   "cell_type": "code",
   "execution_count": 2,
   "id": "4920cce2",
   "metadata": {},
   "outputs": [
    {
     "data": {
      "text/plain": [
       "('TL', 'Euro', 'Dolar')"
      ]
     },
     "execution_count": 2,
     "metadata": {},
     "output_type": "execute_result"
    }
   ],
   "source": [
    "tuple1=tuple(banka)\n",
    "tuple1"
   ]
  },
  {
   "cell_type": "code",
   "execution_count": 3,
   "id": "5e5cb0a9",
   "metadata": {},
   "outputs": [
    {
     "data": {
      "text/plain": [
       "tuple"
      ]
     },
     "execution_count": 3,
     "metadata": {},
     "output_type": "execute_result"
    }
   ],
   "source": [
    "type(tuple1)"
   ]
  },
  {
   "cell_type": "code",
   "execution_count": 4,
   "id": "ac72da4f",
   "metadata": {},
   "outputs": [
    {
     "data": {
      "text/plain": [
       "['TL', 'Euro', 'Dolar']"
      ]
     },
     "execution_count": 4,
     "metadata": {},
     "output_type": "execute_result"
    }
   ],
   "source": [
    "liste1=list(tuple1)\n",
    "liste1"
   ]
  },
  {
   "cell_type": "code",
   "execution_count": 5,
   "id": "83fd9d08",
   "metadata": {},
   "outputs": [
    {
     "data": {
      "text/plain": [
       "['TL', 'Euro', 'Dolar', [1, 2, 3, 4, 5]]"
      ]
     },
     "execution_count": 5,
     "metadata": {},
     "output_type": "execute_result"
    }
   ],
   "source": [
    "sayilar=[1,2,3,4,5]\n",
    "banka.append(sayilar)\n",
    "banka"
   ]
  },
  {
   "cell_type": "code",
   "execution_count": 6,
   "id": "3880fabe",
   "metadata": {},
   "outputs": [
    {
     "data": {
      "text/plain": [
       "('TL', 'Euro', 'Dolar', [1, 2, 3, 4, 5])"
      ]
     },
     "execution_count": 6,
     "metadata": {},
     "output_type": "execute_result"
    }
   ],
   "source": [
    "tuple1=tuple(banka)\n",
    "tuple1"
   ]
  },
  {
   "cell_type": "code",
   "execution_count": 7,
   "id": "cf32f6ad",
   "metadata": {},
   "outputs": [
    {
     "data": {
      "text/plain": [
       "4"
      ]
     },
     "execution_count": 7,
     "metadata": {},
     "output_type": "execute_result"
    }
   ],
   "source": [
    "len(tuple1)"
   ]
  },
  {
   "cell_type": "code",
   "execution_count": 8,
   "id": "ebbf4169",
   "metadata": {},
   "outputs": [
    {
     "data": {
      "text/plain": [
       "[1, 2, 3, 4, 5]"
      ]
     },
     "execution_count": 8,
     "metadata": {},
     "output_type": "execute_result"
    }
   ],
   "source": [
    "tuple1[3]"
   ]
  },
  {
   "cell_type": "code",
   "execution_count": 9,
   "id": "9bdfbeaf",
   "metadata": {},
   "outputs": [
    {
     "data": {
      "text/plain": [
       "('TL', 'Euro', 'Dolar', [1, 2, 3, 4, 5, 6])"
      ]
     },
     "execution_count": 9,
     "metadata": {},
     "output_type": "execute_result"
    }
   ],
   "source": [
    "tuple1[3].append(6)\n",
    "tuple1"
   ]
  },
  {
   "cell_type": "code",
   "execution_count": 10,
   "id": "99fc3471",
   "metadata": {},
   "outputs": [
    {
     "data": {
      "text/plain": [
       "['TL',\n",
       " 'Euro',\n",
       " 'Dolar',\n",
       " [1, 2, 3, 4, 5, 6],\n",
       " ('TL', 'Euro', 'Dolar', [1, 2, 3, 4, 5, 6])]"
      ]
     },
     "execution_count": 10,
     "metadata": {},
     "output_type": "execute_result"
    }
   ],
   "source": [
    "banka.append(tuple1)\n",
    "banka"
   ]
  },
  {
   "cell_type": "code",
   "execution_count": 11,
   "id": "f7dbe350",
   "metadata": {},
   "outputs": [
    {
     "data": {
      "text/plain": [
       "5"
      ]
     },
     "execution_count": 11,
     "metadata": {},
     "output_type": "execute_result"
    }
   ],
   "source": [
    "len(banka)"
   ]
  },
  {
   "cell_type": "code",
   "execution_count": 12,
   "id": "4f8c6ed6",
   "metadata": {},
   "outputs": [
    {
     "data": {
      "text/plain": [
       "'TL'"
      ]
     },
     "execution_count": 12,
     "metadata": {},
     "output_type": "execute_result"
    }
   ],
   "source": [
    "banka[0]"
   ]
  },
  {
   "cell_type": "code",
   "execution_count": 13,
   "id": "f3b02b83",
   "metadata": {},
   "outputs": [
    {
     "data": {
      "text/plain": [
       "'Euro'"
      ]
     },
     "execution_count": 13,
     "metadata": {},
     "output_type": "execute_result"
    }
   ],
   "source": [
    "banka[1]"
   ]
  },
  {
   "cell_type": "code",
   "execution_count": 14,
   "id": "a16fdf7c",
   "metadata": {},
   "outputs": [
    {
     "data": {
      "text/plain": [
       "'Dolar'"
      ]
     },
     "execution_count": 14,
     "metadata": {},
     "output_type": "execute_result"
    }
   ],
   "source": [
    "banka[2]"
   ]
  },
  {
   "cell_type": "code",
   "execution_count": 15,
   "id": "8744b1d1",
   "metadata": {},
   "outputs": [
    {
     "data": {
      "text/plain": [
       "[1, 2, 3, 4, 5, 6]"
      ]
     },
     "execution_count": 15,
     "metadata": {},
     "output_type": "execute_result"
    }
   ],
   "source": [
    "banka[3]"
   ]
  },
  {
   "cell_type": "code",
   "execution_count": 16,
   "id": "a92aa475",
   "metadata": {},
   "outputs": [
    {
     "data": {
      "text/plain": [
       "('TL', 'Euro', 'Dolar', [1, 2, 3, 4, 5, 6])"
      ]
     },
     "execution_count": 16,
     "metadata": {},
     "output_type": "execute_result"
    }
   ],
   "source": [
    "banka[4]"
   ]
  },
  {
   "cell_type": "code",
   "execution_count": 17,
   "id": "a14af56d",
   "metadata": {},
   "outputs": [
    {
     "data": {
      "text/plain": [
       "[1, 2, 3, 4, 5, 6]"
      ]
     },
     "execution_count": 17,
     "metadata": {},
     "output_type": "execute_result"
    }
   ],
   "source": [
    "banka[4][3]"
   ]
  },
  {
   "cell_type": "code",
   "execution_count": 18,
   "id": "467a6c7a",
   "metadata": {},
   "outputs": [
    {
     "data": {
      "text/plain": [
       "3"
      ]
     },
     "execution_count": 18,
     "metadata": {},
     "output_type": "execute_result"
    }
   ],
   "source": [
    "banka[4][3][2]"
   ]
  },
  {
   "cell_type": "code",
   "execution_count": null,
   "id": "b24c5dd9",
   "metadata": {},
   "outputs": [],
   "source": []
  },
  {
   "cell_type": "code",
   "execution_count": null,
   "id": "d9ec8296",
   "metadata": {},
   "outputs": [],
   "source": []
  }
 ],
 "metadata": {
  "kernelspec": {
   "display_name": "Python 3 (ipykernel)",
   "language": "python",
   "name": "python3"
  },
  "language_info": {
   "codemirror_mode": {
    "name": "ipython",
    "version": 3
   },
   "file_extension": ".py",
   "mimetype": "text/x-python",
   "name": "python",
   "nbconvert_exporter": "python",
   "pygments_lexer": "ipython3",
   "version": "3.8.2"
  }
 },
 "nbformat": 4,
 "nbformat_minor": 5
}
