{
 "cells": [
  {
   "cell_type": "code",
   "execution_count": 1,
   "id": "75a9a9a3",
   "metadata": {},
   "outputs": [],
   "source": [
    "#Loto\n",
    "#6 tane rakamdan olusmaktadir\n",
    "#1-99 arasinda"
   ]
  },
  {
   "cell_type": "code",
   "execution_count": 10,
   "id": "b4090298",
   "metadata": {},
   "outputs": [
    {
     "name": "stdout",
     "output_type": "stream",
     "text": [
      "[29, 18, 95, 14, 87, 95]\n"
     ]
    }
   ],
   "source": [
    "#Basit\n",
    "#6 rakami ayni anda gorelim\n",
    "import random as rd\n",
    "loto =[]\n",
    "while len(loto) < 6:\n",
    "    sayi = rd.randint(1,99)\n",
    "    loto.append(sayi)\n",
    "print(loto)"
   ]
  },
  {
   "cell_type": "code",
   "execution_count": 15,
   "id": "a7a7fa85",
   "metadata": {},
   "outputs": [
    {
     "name": "stdout",
     "output_type": "stream",
     "text": [
      "[82, 15, 4, 95, 36, 32]\n"
     ]
    }
   ],
   "source": [
    "#bonus\n",
    "#random seed\n",
    "import random as rd\n",
    "rd.seed(42)\n",
    "loto =[]\n",
    "while len(loto) < 6:\n",
    "    sayi = rd.randint(1,99)\n",
    "    loto.append(sayi)\n",
    "print(loto)"
   ]
  },
  {
   "cell_type": "code",
   "execution_count": 18,
   "id": "51569686",
   "metadata": {},
   "outputs": [
    {
     "name": "stdout",
     "output_type": "stream",
     "text": [
      "[70, 12, 76, 55, 5, 4]\n"
     ]
    }
   ],
   "source": [
    "#orta\n",
    "#sayilarimizi tek tek gorelim\n",
    "#secilen butun sayilari anda gorelim\n",
    "import random as rd\n",
    "import time\n",
    "loto =[]\n",
    "while len(loto) < 6:\n",
    "    sayi = rd.randint(1,99)\n",
    "    loto.append(sayi)\n",
    "    print(sayi,end=',')\n",
    "    time.sleep(1)\n",
    "#print(loto)\n",
    "print(f'\\r{loto}')"
   ]
  },
  {
   "cell_type": "code",
   "execution_count": 21,
   "id": "ce005f9c",
   "metadata": {},
   "outputs": [
    {
     "name": "stdout",
     "output_type": "stream",
     "text": [
      "[1, 29, 36, 54, 58, 76]\n"
     ]
    }
   ],
   "source": [
    "#Advanced\n",
    "#sayilarin tekrar etme olasiligini ortadan kaldirmamiz\n",
    "#sayilar kucukten buyuge yazilsin\n",
    "import random as rd\n",
    "import time\n",
    "loto =[]\n",
    "while len(loto) < 6:\n",
    "    sayi = rd.randint(1,99)\n",
    "    if sayi not in loto:\n",
    "        loto.append(sayi)\n",
    "    print(sayi,end=',')\n",
    "    time.sleep(1)\n",
    "#print(loto)\n",
    "loto.sort()\n",
    "print(f'\\r{loto}')"
   ]
  },
  {
   "cell_type": "code",
   "execution_count": null,
   "id": "2eb884f5",
   "metadata": {},
   "outputs": [],
   "source": []
  }
 ],
 "metadata": {
  "kernelspec": {
   "display_name": "Python 3 (ipykernel)",
   "language": "python",
   "name": "python3"
  },
  "language_info": {
   "codemirror_mode": {
    "name": "ipython",
    "version": 3
   },
   "file_extension": ".py",
   "mimetype": "text/x-python",
   "name": "python",
   "nbconvert_exporter": "python",
   "pygments_lexer": "ipython3",
   "version": "3.9.7"
  }
 },
 "nbformat": 4,
 "nbformat_minor": 5
}
