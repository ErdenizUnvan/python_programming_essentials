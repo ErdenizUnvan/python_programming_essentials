{
 "cells": [
  {
   "cell_type": "code",
   "execution_count": 10,
   "id": "34390a97",
   "metadata": {},
   "outputs": [
    {
     "name": "stdout",
     "output_type": "stream",
     "text": [
      "Lutfen sifrenizi yaziniz: PN89goğö  $%\n",
      "Butun kosullar saglandi. Ailemize hosgeldiniz:)\n"
     ]
    }
   ],
   "source": [
    "#Emailimiz icin sifre kontrolu yapmaya\n",
    "#buyuk_harf min >= 2\n",
    "#bosluk >= min 2\n",
    "#digit >= min 2\n",
    "#not_alfa (#,$@><*()...) >= min 2\n",
    "#kucuk_harf_ascii >= min 2\n",
    "#kucuk_harf_Turkce >= min 2 (ığüöçş)\n",
    "#uzunluk >= min 12\n",
    "\n",
    "sifre = input('Lutfen sifrenizi yaziniz: ')\n",
    "\n",
    "buyuk_harf = 0\n",
    "bosluk = 0\n",
    "digit = 0\n",
    "not_alfa = 0\n",
    "kucuk_harf_ascii = 0\n",
    "kucuk_harf_Turkce = 0\n",
    "uzunluk = len(sifre)\n",
    "\n",
    "for karakter in sifre:\n",
    "    if karakter.isupper():\n",
    "        buyuk_harf+=1\n",
    "    elif karakter.isspace():\n",
    "        bosluk +=1\n",
    "    elif karakter.isdigit():\n",
    "        digit +=1\n",
    "    elif not karakter.isalpha():\n",
    "        not_alfa+=1\n",
    "    elif karakter.islower() and karakter.isascii():\n",
    "        kucuk_harf_ascii +=1\n",
    "    elif karakter.islower() and not karakter.isascii():\n",
    "        kucuk_harf_Turkce +=1\n",
    "        \n",
    "if uzunluk >= 12 and buyuk_harf>=2 and bosluk>=2 and digit>=2 and not_alfa>=2 and kucuk_harf_ascii>=2 and kucuk_harf_Turkce>=2:\n",
    "    print('Butun kosullar saglandi. Ailemize hosgeldiniz:)')\n",
    "else:\n",
    "    print('Sifre kabul edilmedi:(')"
   ]
  },
  {
   "cell_type": "code",
   "execution_count": null,
   "id": "04f8b961",
   "metadata": {},
   "outputs": [],
   "source": [
    "#EU  84@#abğü"
   ]
  }
 ],
 "metadata": {
  "kernelspec": {
   "display_name": "Python 3 (ipykernel)",
   "language": "python",
   "name": "python3"
  },
  "language_info": {
   "codemirror_mode": {
    "name": "ipython",
    "version": 3
   },
   "file_extension": ".py",
   "mimetype": "text/x-python",
   "name": "python",
   "nbconvert_exporter": "python",
   "pygments_lexer": "ipython3",
   "version": "3.9.7"
  }
 },
 "nbformat": 4,
 "nbformat_minor": 5
}
