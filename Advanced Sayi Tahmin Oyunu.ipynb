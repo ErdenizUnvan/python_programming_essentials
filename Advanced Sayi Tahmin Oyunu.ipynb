{
 "cells": [
  {
   "cell_type": "code",
   "execution_count": 2,
   "id": "682ae8dc",
   "metadata": {},
   "outputs": [
    {
     "name": "stdout",
     "output_type": "stream",
     "text": [
      "Lutfen bir tahminde bulunun: 50\n",
      "Daha kucuk degerde bir tahminde bulunun.\n",
      "Lutfen bir tahminde bulunun: 25\n",
      "Daha kucuk degerde bir tahminde bulunun.\n",
      "Lutfen bir tahminde bulunun: 12\n",
      "Bingo. Kazandiniz:)\n"
     ]
    }
   ],
   "source": [
    "#Python bizim icin 1-100 arasinda bir rakam sececektir.\n",
    "#Biz de bu rakami tahmin etmeye calisacagiz.\n",
    "#Tahmin > Sayi : Daha kucuk degerde bir tahminde bulunun.\n",
    "#Tahmin < Sayi : Daha buyuk degerde bir tahminde bulunun.\n",
    "#Tahmin == Sayi : Bingo\n",
    "\n",
    "import random as rd\n",
    "sayi = rd.randint(1,100)\n",
    "\n",
    "while True:\n",
    "    tahmin = int(input('Lutfen bir tahminde bulunun: '))\n",
    "    \n",
    "    if tahmin > sayi:\n",
    "        print('Daha kucuk degerde bir tahminde bulunun.')\n",
    "    elif tahmin < sayi:\n",
    "        print('Daha buyuk degerde bir tahminde bulunun.')\n",
    "    else:\n",
    "        print('Bingo. Kazandiniz:)')\n",
    "        break"
   ]
  },
  {
   "cell_type": "code",
   "execution_count": 6,
   "id": "16e85de4",
   "metadata": {},
   "outputs": [
    {
     "name": "stdout",
     "output_type": "stream",
     "text": [
      "Lutfen kac adet tahmin hakkiniz olacagini belirtin: 3\n",
      "Lutfen bir tahminde bulunun: 50\n",
      "Kopya:85 / Kalan tahmin sayisi : 2 / Daha buyuk degerde bir tahminde bulunun.\n",
      "Lutfen bir tahminde bulunun: 84\n",
      "Kopya:85 / Kalan tahmin sayisi : 1 / Daha buyuk degerde bir tahminde bulunun.\n",
      "Lutfen bir tahminde bulunun: 85\n",
      "Bingo. 3 adet tahminde bulunarak kazandiniz:) \n"
     ]
    }
   ],
   "source": [
    "#Python bizim icin 1-100 arasinda bir rakam sececektir.\n",
    "#Biz de bu rakami tahmin etmeye calisacagiz.\n",
    "#Tahmin > Sayi : Daha kucuk degerde bir tahminde bulunun.\n",
    "#Tahmin < Sayi : Daha buyuk degerde bir tahminde bulunun.\n",
    "#Tahmin == Sayi : Bingo\n",
    "#Tahmin Hakki siniri belirlensin\n",
    "#Tahmin Hakki sinirinda kazanmaya calisalim\n",
    "#Tahmin Hakki sinirinda sayiyi bilemezsek, Python sayiyi aciklasin ve kaybettiniz desin\n",
    "#Tahmin Hakki siniri devam ederken, her seferinde kalan hak sayisi paylasilsin\n",
    "#Tahmin Hakki siniri icinde sayiyi bildigimizde, Python bize bravo desin ve\n",
    "#kac seferde kazandigimizi soylesin\n",
    "\n",
    "\n",
    "\n",
    "import random as rd\n",
    "sayi = rd.randint(1,100)\n",
    "tahmin = 0\n",
    "\n",
    "tahmin_hakki = int(input('Lutfen kac adet tahmin hakkiniz olacagini belirtin: '))\n",
    "hak = 0\n",
    "\n",
    "while tahmin != sayi:\n",
    "    tahmin = int(input('Lutfen bir tahminde bulunun: '))\n",
    "    hak +=1\n",
    "    \n",
    "    if tahmin_hakki==hak and tahmin != sayi:\n",
    "        print(f'Kaybettiniz. Python\"un sectigi sayi: {sayi}')\n",
    "    \n",
    "    elif tahmin > sayi:\n",
    "        print(f'Kopya:{sayi} / Kalan tahmin sayisi : {tahmin_hakki-hak} / Daha kucuk degerde bir tahminde bulunun.')\n",
    "    elif tahmin < sayi:\n",
    "        print(f'Kopya:{sayi} / Kalan tahmin sayisi : {tahmin_hakki-hak} / Daha buyuk degerde bir tahminde bulunun.')\n",
    "    else:\n",
    "        print(f'Bingo. {hak} adet tahminde bulunarak kazandiniz:) ')\n",
    "       "
   ]
  },
  {
   "cell_type": "code",
   "execution_count": 12,
   "id": "8e2def6b",
   "metadata": {},
   "outputs": [
    {
     "name": "stdout",
     "output_type": "stream",
     "text": [
      "Lutfen kac adet tahmin hakkiniz olacagini belirtin: 3\n",
      "Lutfen bir tahminde bulunun: 50\n",
      "Kopya:19 / Kalan tahmin sayisi : 2 / Daha kucuk degerde bir tahminde bulunun.\n",
      "Lutfen bir tahminde bulunun: 18\n",
      "Kopya:19 / Kalan tahmin sayisi : 1 / Daha buyuk degerde bir tahminde bulunun.\n",
      "Lutfen bir tahminde bulunun: 19\n",
      "Bingo.\n"
     ]
    }
   ],
   "source": [
    "#Python bizim icin 1-100 arasinda bir rakam sececektir.\n",
    "#Biz de bu rakami tahmin etmeye calisacagiz.\n",
    "#Tahmin > Sayi : Daha kucuk degerde bir tahminde bulunun.\n",
    "#Tahmin < Sayi : Daha buyuk degerde bir tahminde bulunun.\n",
    "#Tahmin == Sayi : Bingo\n",
    "#Tahmin Hakki siniri belirlensin\n",
    "#Tahmin Hakki sinirinda kazanmaya calisalim\n",
    "#Tahmin Hakki sinirinda sayiyi bilemezsek, Python sayiyi aciklasin ve kaybettiniz desin\n",
    "#Tahmin Hakki siniri devam ederken, her seferinde kalan hak sayisi paylasilsin\n",
    "#Tahmin Hakki siniri icinde sayiyi bildigimizde, Python bize bravo desin ve\n",
    "#kac seferde kazandigimizi soylesin\n",
    "\n",
    "\n",
    "\n",
    "import random as rd\n",
    "sayi = rd.randint(1,100)\n",
    "tahmin = 0\n",
    "\n",
    "tahmin_hakki = int(input('Lutfen kac adet tahmin hakkiniz olacagini belirtin: '))\n",
    "\n",
    "\n",
    "while tahmin != sayi:\n",
    "    tahmin = int(input('Lutfen bir tahminde bulunun: '))\n",
    "    tahmin_hakki -=1\n",
    "    \n",
    "    if tahmin_hakki==0 and tahmin != sayi:\n",
    "        print(f'Kaybettiniz. Python\"un sectigi sayi: {sayi}')\n",
    "        break\n",
    "    \n",
    "    elif tahmin > sayi:\n",
    "        print(f'Kopya:{sayi} / Kalan tahmin sayisi : {tahmin_hakki} / Daha kucuk degerde bir tahminde bulunun.')\n",
    "    elif tahmin < sayi:\n",
    "        print(f'Kopya:{sayi} / Kalan tahmin sayisi : {tahmin_hakki} / Daha buyuk degerde bir tahminde bulunun.')\n",
    "    else:\n",
    "        print(f'Bingo.')\n",
    "       "
   ]
  },
  {
   "cell_type": "code",
   "execution_count": null,
   "id": "ea447084",
   "metadata": {},
   "outputs": [],
   "source": []
  }
 ],
 "metadata": {
  "kernelspec": {
   "display_name": "Python 3 (ipykernel)",
   "language": "python",
   "name": "python3"
  },
  "language_info": {
   "codemirror_mode": {
    "name": "ipython",
    "version": 3
   },
   "file_extension": ".py",
   "mimetype": "text/x-python",
   "name": "python",
   "nbconvert_exporter": "python",
   "pygments_lexer": "ipython3",
   "version": "3.9.7"
  }
 },
 "nbformat": 4,
 "nbformat_minor": 5
}
